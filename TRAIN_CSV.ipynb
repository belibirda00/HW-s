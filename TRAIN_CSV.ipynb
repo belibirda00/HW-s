{
  "cells": [
    {
      "cell_type": "markdown",
      "metadata": {
        "id": "view-in-github",
        "colab_type": "text"
      },
      "source": [
        "<a href=\"https://colab.research.google.com/github/belibirda00/HW-s/blob/main/TRAIN_CSV.ipynb\" target=\"_parent\"><img src=\"https://colab.research.google.com/assets/colab-badge.svg\" alt=\"Open In Colab\"/></a>"
      ]
    },
    {
      "cell_type": "code",
      "execution_count": null,
      "id": "0aae2d17",
      "metadata": {
        "scrolled": false,
        "id": "0aae2d17"
      },
      "outputs": [],
      "source": [
        "import pandas as pd\n",
        "train_data = pd.read_csv('data/train.csv', nrows = 10000000)\n",
        "train_df = train_data.copy()"
      ]
    },
    {
      "cell_type": "code",
      "execution_count": null,
      "id": "d8b809f4",
      "metadata": {
        "id": "d8b809f4"
      },
      "outputs": [],
      "source": [
        "lect_data = pd.read_csv('data/lectures.csv', sep=',')\n",
        "lect_df = lect_data.copy()"
      ]
    },
    {
      "cell_type": "code",
      "execution_count": null,
      "id": "4bbaf4e5",
      "metadata": {
        "id": "4bbaf4e5"
      },
      "outputs": [],
      "source": [
        "quest_data = pd.read_csv('data/questions.csv', sep=',')\n",
        "quest_df = quest_data.copy()"
      ]
    },
    {
      "cell_type": "code",
      "execution_count": null,
      "id": "9b95ba6c",
      "metadata": {
        "scrolled": true,
        "id": "9b95ba6c",
        "outputId": "b8fc91a7-48c9-4a14-bc57-ca49deaa166e"
      },
      "outputs": [
        {
          "data": {
            "text/html": [
              "<div>\n",
              "<style scoped>\n",
              "    .dataframe tbody tr th:only-of-type {\n",
              "        vertical-align: middle;\n",
              "    }\n",
              "\n",
              "    .dataframe tbody tr th {\n",
              "        vertical-align: top;\n",
              "    }\n",
              "\n",
              "    .dataframe thead th {\n",
              "        text-align: right;\n",
              "    }\n",
              "</style>\n",
              "<table border=\"1\" class=\"dataframe\">\n",
              "  <thead>\n",
              "    <tr style=\"text-align: right;\">\n",
              "      <th></th>\n",
              "      <th>row_id</th>\n",
              "      <th>timestamp</th>\n",
              "      <th>user_id</th>\n",
              "      <th>content_id</th>\n",
              "      <th>content_type_id</th>\n",
              "      <th>task_container_id</th>\n",
              "      <th>user_answer</th>\n",
              "      <th>answered_correctly</th>\n",
              "      <th>prior_question_elapsed_time</th>\n",
              "      <th>prior_question_had_explanation</th>\n",
              "    </tr>\n",
              "  </thead>\n",
              "  <tbody>\n",
              "    <tr>\n",
              "      <th>0</th>\n",
              "      <td>0</td>\n",
              "      <td>0</td>\n",
              "      <td>115</td>\n",
              "      <td>5692</td>\n",
              "      <td>0</td>\n",
              "      <td>1</td>\n",
              "      <td>3</td>\n",
              "      <td>1</td>\n",
              "      <td>NaN</td>\n",
              "      <td>NaN</td>\n",
              "    </tr>\n",
              "    <tr>\n",
              "      <th>1</th>\n",
              "      <td>1</td>\n",
              "      <td>56943</td>\n",
              "      <td>115</td>\n",
              "      <td>5716</td>\n",
              "      <td>0</td>\n",
              "      <td>2</td>\n",
              "      <td>2</td>\n",
              "      <td>1</td>\n",
              "      <td>37000.0</td>\n",
              "      <td>False</td>\n",
              "    </tr>\n",
              "    <tr>\n",
              "      <th>2</th>\n",
              "      <td>2</td>\n",
              "      <td>118363</td>\n",
              "      <td>115</td>\n",
              "      <td>128</td>\n",
              "      <td>0</td>\n",
              "      <td>0</td>\n",
              "      <td>0</td>\n",
              "      <td>1</td>\n",
              "      <td>55000.0</td>\n",
              "      <td>False</td>\n",
              "    </tr>\n",
              "    <tr>\n",
              "      <th>3</th>\n",
              "      <td>3</td>\n",
              "      <td>131167</td>\n",
              "      <td>115</td>\n",
              "      <td>7860</td>\n",
              "      <td>0</td>\n",
              "      <td>3</td>\n",
              "      <td>0</td>\n",
              "      <td>1</td>\n",
              "      <td>19000.0</td>\n",
              "      <td>False</td>\n",
              "    </tr>\n",
              "    <tr>\n",
              "      <th>4</th>\n",
              "      <td>4</td>\n",
              "      <td>137965</td>\n",
              "      <td>115</td>\n",
              "      <td>7922</td>\n",
              "      <td>0</td>\n",
              "      <td>4</td>\n",
              "      <td>1</td>\n",
              "      <td>1</td>\n",
              "      <td>11000.0</td>\n",
              "      <td>False</td>\n",
              "    </tr>\n",
              "  </tbody>\n",
              "</table>\n",
              "</div>"
            ],
            "text/plain": [
              "   row_id  timestamp  user_id  content_id  content_type_id  task_container_id  \\\n",
              "0       0          0      115        5692                0                  1   \n",
              "1       1      56943      115        5716                0                  2   \n",
              "2       2     118363      115         128                0                  0   \n",
              "3       3     131167      115        7860                0                  3   \n",
              "4       4     137965      115        7922                0                  4   \n",
              "\n",
              "   user_answer  answered_correctly  prior_question_elapsed_time  \\\n",
              "0            3                   1                          NaN   \n",
              "1            2                   1                      37000.0   \n",
              "2            0                   1                      55000.0   \n",
              "3            0                   1                      19000.0   \n",
              "4            1                   1                      11000.0   \n",
              "\n",
              "  prior_question_had_explanation  \n",
              "0                            NaN  \n",
              "1                          False  \n",
              "2                          False  \n",
              "3                          False  \n",
              "4                          False  "
            ]
          },
          "execution_count": 44,
          "metadata": {},
          "output_type": "execute_result"
        }
      ],
      "source": [
        "train_df.head()"
      ]
    },
    {
      "cell_type": "markdown",
      "id": "732978c6",
      "metadata": {
        "id": "732978c6"
      },
      "source": [
        "*row_id: (int64) идентификатор строки.*\n",
        "\n",
        "*timestamp: (int64) время в миллисекундах между этим взаимодействием с пользователем и первым завершением события от этого пользователя.*\n",
        "\n",
        "*user_id: (int32) ID-код пользователя.* \n",
        "\n",
        "*content_id: (int16) ID-код для взаимодействия с пользователем* \n",
        "\n",
        "*content_type_id: (int8) 0, если событием был вопрос, заданный пользователю, 1, если событием был просмотр пользователем лекции.* \n",
        "\n",
        "*task_container_id: (int16) Идентификационный код для пакета вопросов или лекций. Например, пользователь может увидеть три вопроса подряд, прежде чем увидит пояснения к любому из них. Все эти трое будут иметь общий идентификатор task_container_id.* \n",
        "\n",
        "*user_answer: (int8) ответ пользователя на вопрос, если он есть. Прочитайте -1 как ноль, для лекций.* \n",
        "\n",
        "*answer_correctly: (int8), если пользователь ответил правильно. Прочитайте -1 как ноль, для лекций.*\n",
        "\n",
        "*prior_question_elapsed_time: (float32) Среднее время в миллисекундах, которое потребовалось пользователю, чтобы ответить на каждый вопрос в предыдущем наборе вопросов, игнорируя любые промежуточные лекции. Имеет значение null для первого набора вопросов пользователя или лекции. Обратите внимание, что время — это среднее время, затраченное пользователем на решение каждого вопроса в предыдущем наборе.* \n",
        "\n",
        "*prior_question_had_explanation: (bool) Видел ли пользователь объяснение и правильный ответ после ответа на предыдущий набор вопросов, игнорируя любые промежуточные лекции. Это значение является общим для одного пакета вопросов и равно нулю для первого пакета вопросов или лекции пользователя. Обычно первые несколько вопросов, которые видит пользователь, были частью диагностического теста на борту, где они не получали никакой обратной связи.*"
      ]
    },
    {
      "cell_type": "code",
      "execution_count": null,
      "id": "efbb6f28",
      "metadata": {
        "id": "efbb6f28"
      },
      "outputs": [],
      "source": [
        "import matplotlib.pyplot as plt\n",
        "import seaborn as sns\n",
        "import numpy as np"
      ]
    },
    {
      "cell_type": "code",
      "execution_count": null,
      "id": "ae6ba8e3",
      "metadata": {
        "id": "ae6ba8e3",
        "outputId": "4e78b900-6795-4cfd-c5db-7115da4b6236"
      },
      "outputs": [
        {
          "name": "stdout",
          "output_type": "stream",
          "text": [
            "<class 'pandas.core.frame.DataFrame'>\n",
            "RangeIndex: 10000000 entries, 0 to 9999999\n",
            "Data columns (total 10 columns):\n",
            " #   Column                          Dtype  \n",
            "---  ------                          -----  \n",
            " 0   row_id                          int64  \n",
            " 1   timestamp                       int64  \n",
            " 2   user_id                         int64  \n",
            " 3   content_id                      int64  \n",
            " 4   content_type_id                 int64  \n",
            " 5   task_container_id               int64  \n",
            " 6   user_answer                     int64  \n",
            " 7   answered_correctly              int64  \n",
            " 8   prior_question_elapsed_time     float64\n",
            " 9   prior_question_had_explanation  object \n",
            "dtypes: float64(1), int64(8), object(1)\n",
            "memory usage: 762.9+ MB\n"
          ]
        }
      ],
      "source": [
        "train_df.info()"
      ]
    },
    {
      "cell_type": "code",
      "execution_count": null,
      "id": "401847f6",
      "metadata": {
        "id": "401847f6"
      },
      "outputs": [],
      "source": [
        "#Преобразуем столбцы с ограниченным количеством значений к типу данных category\n",
        "train_df['prior_question_had_explanation'] = train_df['prior_question_had_explanation'].astype('boolean')"
      ]
    },
    {
      "cell_type": "code",
      "execution_count": null,
      "id": "80b023f8",
      "metadata": {
        "id": "80b023f8",
        "outputId": "034d7354-7612-4b59-ca6d-0cdc71f87c1e"
      },
      "outputs": [
        {
          "name": "stdout",
          "output_type": "stream",
          "text": [
            "<class 'pandas.core.frame.DataFrame'>\n",
            "RangeIndex: 10000000 entries, 0 to 9999999\n",
            "Data columns (total 10 columns):\n",
            " #   Column                          Dtype  \n",
            "---  ------                          -----  \n",
            " 0   row_id                          int64  \n",
            " 1   timestamp                       int64  \n",
            " 2   user_id                         int64  \n",
            " 3   content_id                      int64  \n",
            " 4   content_type_id                 int64  \n",
            " 5   task_container_id               int64  \n",
            " 6   user_answer                     int64  \n",
            " 7   answered_correctly              int64  \n",
            " 8   prior_question_elapsed_time     float64\n",
            " 9   prior_question_had_explanation  boolean\n",
            "dtypes: boolean(1), float64(1), int64(8)\n",
            "memory usage: 705.7 MB\n"
          ]
        }
      ],
      "source": [
        "train_df.info()\n",
        "#Объем занимаемой памяти уменьшился на 267 мб"
      ]
    },
    {
      "cell_type": "code",
      "execution_count": null,
      "id": "aaa42926",
      "metadata": {
        "id": "aaa42926",
        "outputId": "175b5f03-e59d-41b0-8065-823158d71cfc"
      },
      "outputs": [
        {
          "data": {
            "text/plain": [
              "39491"
            ]
          },
          "execution_count": 49,
          "metadata": {},
          "output_type": "execute_result"
        }
      ],
      "source": [
        "train_df['user_id'].nunique()\n",
        "# Количество студентов равно 39 491"
      ]
    },
    {
      "cell_type": "code",
      "execution_count": null,
      "id": "0cb10ad8",
      "metadata": {
        "id": "0cb10ad8",
        "outputId": "1f4e546c-450a-4d24-86dd-3e94a1aa5767"
      },
      "outputs": [
        {
          "data": {
            "text/plain": [
              "0    9804604\n",
              "1     195396\n",
              "Name: content_type_id, dtype: int64"
            ]
          },
          "execution_count": 50,
          "metadata": {},
          "output_type": "execute_result"
        }
      ],
      "source": [
        "train_df['content_type_id'].value_counts()\n",
        "# Вопросами из 10 млн событий были 9 804 604 событий, просмотрами лекций - 195 396."
      ]
    },
    {
      "cell_type": "code",
      "execution_count": null,
      "id": "bc187731",
      "metadata": {
        "id": "bc187731",
        "outputId": "c4405582-a6f7-4e49-a1c8-dd0c183fce03"
      },
      "outputs": [
        {
          "data": {
            "text/plain": [
              "13749"
            ]
          },
          "execution_count": 51,
          "metadata": {},
          "output_type": "execute_result"
        }
      ],
      "source": [
        "train_df['content_id'].nunique()\n",
        "# Количество уникальных content_id равно 13 749"
      ]
    },
    {
      "cell_type": "code",
      "execution_count": null,
      "id": "41352135",
      "metadata": {
        "id": "41352135",
        "outputId": "e97e4da9-9630-4f27-fac5-70af8cfb55a8"
      },
      "outputs": [
        {
          "data": {
            "text/plain": [
              "13500"
            ]
          },
          "execution_count": 52,
          "metadata": {},
          "output_type": "execute_result"
        }
      ],
      "source": [
        "train_df[train_df['content_type_id'] == 0]['content_id'].nunique()\n",
        "# 13 500 уникальных id вопросов"
      ]
    },
    {
      "cell_type": "code",
      "execution_count": null,
      "id": "5e7bfd92",
      "metadata": {
        "id": "5e7bfd92",
        "outputId": "b0fc1760-082f-4c31-e59f-ffac44cf74f7"
      },
      "outputs": [
        {
          "data": {
            "image/png": "[encoded data removed]",
            "text/plain": [
              "<Figure size 1080x432 with 1 Axes>"
            ]
          },
          "metadata": {
            "needs_background": "light"
          },
          "output_type": "display_data"
        }
      ],
      "source": [
        "cids = train_df['content_id'].value_counts()[:20]\n",
        "\n",
        "fig = plt.figure(figsize=(15,6))\n",
        "ax = cids.plot.bar()\n",
        "plt.title('Двадцать наиболее часто встречающихся content_id')\n",
        "plt.xticks(rotation=50)\n",
        "ax.get_yaxis().set_major_formatter(lambda x, p: format(int(x), ','))\n",
        "plt.show()"
      ]
    },
    {
      "cell_type": "code",
      "execution_count": null,
      "id": "196cda5f",
      "metadata": {
        "id": "196cda5f",
        "outputId": "42be1852-018f-47bd-fac5-82b0dd874cb9"
      },
      "outputs": [
        {
          "data": {
            "text/plain": [
              "10000"
            ]
          },
          "execution_count": 54,
          "metadata": {},
          "output_type": "execute_result"
        }
      ],
      "source": [
        "train_df['task_container_id'].nunique()\n",
        "# 10 000 уникальных кодов код для пакета вопросов или лекций"
      ]
    },
    {
      "cell_type": "code",
      "execution_count": null,
      "id": "f28083ba",
      "metadata": {
        "id": "f28083ba",
        "outputId": "f41635df-0c4a-4def-ba0a-31e2d7f769ec"
      },
      "outputs": [
        {
          "data": {
            "text/plain": [
              " 0    2784028\n",
              " 1    2660660\n",
              " 3    2579528\n",
              " 2    1780388\n",
              "-1     195396\n",
              "Name: user_answer, dtype: int64"
            ]
          },
          "execution_count": 55,
          "metadata": {},
          "output_type": "execute_result"
        }
      ],
      "source": [
        "train_df['user_answer'].value_counts()\n",
        "#Ответы студнетов на вопросы были в диапазоне от 0 до 3, -1 был просмотр лекции."
      ]
    },
    {
      "cell_type": "code",
      "execution_count": null,
      "id": "f45d7ad4",
      "metadata": {
        "id": "f45d7ad4",
        "outputId": "e6c09f41-e40f-44bf-9874-091bea73d67c"
      },
      "outputs": [
        {
          "data": {
            "image/png": "[encoded data removed]",
            "text/plain": [
              "<Figure size 1080x432 with 1 Axes>"
            ]
          },
          "metadata": {
            "needs_background": "light"
          },
          "output_type": "display_data"
        }
      ],
      "source": [
        "#1 год = 31536000000 мс\n",
        "ts = train_df['timestamp']/(31536000000/12)\n",
        "fig = plt.figure(figsize=(15,6))\n",
        "ts.plot.hist(bins=50)\n",
        "plt.title('Гистограмма timestamp')\n",
        "plt.xticks(rotation=0)\n",
        "plt.xlabel('Количество месяцев между рассматриваемой итерацией и первым событием студента')\n",
        "plt.show()"
      ]
    },
    {
      "cell_type": "code",
      "execution_count": null,
      "id": "de52dc40",
      "metadata": {
        "id": "de52dc40",
        "outputId": "65632e74-ef87-4a28-b063-5759e0f027bc"
      },
      "outputs": [
        {
          "data": {
            "image/png": "[encoded data removed]",
            "text/plain": [
              "<Figure size 1080x288 with 1 Axes>"
            ]
          },
          "metadata": {
            "needs_background": "light"
          },
          "output_type": "display_data"
        }
      ],
      "source": [
        "correct = train_df[train_df['answered_correctly'] != -1]['answered_correctly'].value_counts(ascending=True)\n",
        "\n",
        "fig = plt.figure(figsize=(15,4))\n",
        "correct.plot.barh()\n",
        "for i, v in zip(correct.index, correct.values):\n",
        "    plt.text(v, i, '{:,}'.format(v), color='black', fontweight='bold', fontsize=14, ha='right', va='center')\n",
        "plt.title('Правильные ответы на вопросы')\n",
        "plt.xticks(rotation=0)\n",
        "plt.show()"
      ]
    },
    {
      "cell_type": "code",
      "execution_count": null,
      "id": "379d5fe1",
      "metadata": {
        "id": "379d5fe1",
        "outputId": "78f0c497-ae38-4003-cbbb-28ace9e8bd75"
      },
      "outputs": [
        {
          "data": {
            "image/png": "[encoded data removed]",
            "text/plain": [
              "<Figure size 1080x432 with 1 Axes>"
            ]
          },
          "metadata": {
            "needs_background": "light"
          },
          "output_type": "display_data"
        }
      ],
      "source": [
        "#Разделим все значения timestamp на 5 контейнеров с помощью qcut\n",
        "bin_labels_5 = ['Контейнер_1', 'Контейнер_2', 'Контейнер_3', 'Контейнер_4', 'Контейнер_5']\n",
        "train_df['ts_bin'] = pd.qcut(train_df['timestamp'], q=5, labels=bin_labels_5)\n",
        "\n",
        "#Создадим функцию, которая нам понадобится сейчас и в дальнейшем\n",
        "def correct(field):\n",
        "    correct = train_df[train_df['answered_correctly'] != -1].groupby([field, 'answered_correctly'], as_index=False).size()\n",
        "    correct = correct.pivot(index= field, columns='answered_correctly', values='size')\n",
        "    correct['Percent_correct'] = round(correct.iloc[:,1]/(correct.iloc[:,0] + correct.iloc[:,1]),2)\n",
        "    correct = correct.sort_values(by = 'Percent_correct', ascending = False)\n",
        "    correct = correct.iloc[:,2]\n",
        "    return(correct)\n",
        "\n",
        "bins_correct = correct('ts_bin')\n",
        "bins_correct = bins_correct.sort_index()\n",
        "\n",
        "fig = plt.figure(figsize=(15,6))\n",
        "plt.bar(bins_correct.index, bins_correct.values)\n",
        "for i, v in zip(bins_correct.index, bins_correct.values):\n",
        "    plt.text(i, v, v, color='white', fontweight='bold', fontsize=14, va='top', ha='center')\n",
        "plt.title('Количество правильных ответов для 5 контейнеров timestamp')\n",
        "plt.xticks(rotation=0)\n",
        "plt.show()"
      ]
    },
    {
      "cell_type": "code",
      "execution_count": null,
      "id": "52549fa7",
      "metadata": {
        "id": "52549fa7",
        "outputId": "e70508f7-b29c-4279-9934-0890bddf0fef"
      },
      "outputs": [
        {
          "data": {
            "image/png": "[encoded data removed]",
            "text/plain": [
              "<Figure size 1080x432 with 1 Axes>"
            ]
          },
          "metadata": {
            "needs_background": "light"
          },
          "output_type": "display_data"
        }
      ],
      "source": [
        "task_id_correct = correct('task_container_id')\n",
        "\n",
        "fig = plt.figure(figsize=(15,6))\n",
        "task_id_correct.plot.hist(bins=40)\n",
        "plt.title('Гистограмма percent_correct, отсортированным по task_conteiner_id')\n",
        "plt.xticks(rotation=0)\n",
        "plt.show()"
      ]
    },
    {
      "cell_type": "code",
      "execution_count": null,
      "id": "888557fb",
      "metadata": {
        "id": "888557fb",
        "outputId": "68c13662-da44-4e76-85ce-a0cb55ab19b9"
      },
      "outputs": [
        {
          "data": {
            "text/plain": [
              "15562"
            ]
          },
          "execution_count": 63,
          "metadata": {},
          "output_type": "execute_result"
        }
      ],
      "source": [
        "user_percent = train_df[train_df['answered_correctly'] != -1].groupby('user_id')['answered_correctly'].agg(Mean='mean', Answers='count')\n",
        "user_percent['Answers'].max()\n",
        "#Максимальное количество ответов, данное одним user_id = 15 562"
      ]
    },
    {
      "cell_type": "code",
      "execution_count": null,
      "id": "0cf3edbc",
      "metadata": {
        "id": "0cf3edbc",
        "outputId": "be6bc244-a9af-401a-e57f-36fb63f0e188"
      },
      "outputs": [
        {
          "data": {
            "image/png": "[encoded data removed]",
            "text/plain": [
              "<Figure size 1080x432 with 1 Axes>"
            ]
          },
          "metadata": {
            "needs_background": "light"
          },
          "output_type": "display_data"
        }
      ],
      "source": [
        "user_percent = user_percent.query('Answers <= 1000').sample(n=200, random_state=1)\n",
        "\n",
        "fig = plt.figure(figsize=(15,6))\n",
        "x = user_percent.Answers\n",
        "y = user_percent.Mean\n",
        "plt.scatter(x, y, marker='o')\n",
        "plt.title('Соотношение процента правильных ответов с общим количеством отвеченных вопросов')\n",
        "plt.xticks(rotation=0)\n",
        "plt.xlabel('Количество ответов на вопросы')\n",
        "plt.ylabel('Процент правильных ответов')\n",
        "z = np.polyfit(x, y, 1)\n",
        "p = np.poly1d(z)\n",
        "plt.plot(x,p(x),\"r--\")\n",
        "\n",
        "plt.show()"
      ]
    },
    {
      "cell_type": "code",
      "execution_count": null,
      "id": "e2da86c0",
      "metadata": {
        "id": "e2da86c0",
        "outputId": "f1e89ac1-2dd6-42e7-c5aa-8c33de6c6fbf"
      },
      "outputs": [
        {
          "data": {
            "text/plain": [
              "21103"
            ]
          },
          "metadata": {},
          "output_type": "display_data"
        },
        {
          "data": {
            "text/plain": [
              "13500"
            ]
          },
          "metadata": {},
          "output_type": "display_data"
        },
        {
          "data": {
            "text/plain": [
              "757"
            ]
          },
          "metadata": {},
          "output_type": "display_data"
        }
      ],
      "source": [
        "#Сделаем то же самое для content_id\n",
        "content_percent = train_df[train_df['answered_correctly'] != -1].groupby('content_id')['answered_correctly'].agg(Mean='mean', Answers='count')\n",
        "display(content_percent['Answers'].max())\n",
        "display(len(content_percent), len(content_percent[content_percent['Answers'] > 2100]))\n",
        "#Максимальное количество вопросов, отвеченных по одному content_id составляет 21 103\n",
        "#Из 13 500 content_id более 2 100 ответов на вопрос было в 757 content_id"
      ]
    },
    {
      "cell_type": "code",
      "execution_count": null,
      "id": "d4e16b1d",
      "metadata": {
        "id": "d4e16b1d",
        "outputId": "6b6c4dfc-bde8-4201-bef5-a932b6e8ce9c"
      },
      "outputs": [
        {
          "data": {
            "image/png": "[encoded data removed]",
            "text/plain": [
              "<Figure size 1080x432 with 1 Axes>"
            ]
          },
          "metadata": {
            "needs_background": "light"
          },
          "output_type": "display_data"
        }
      ],
      "source": [
        "content_percent = content_percent.query('Answers <= 2100').sample(n=200, random_state=1)\n",
        "\n",
        "fig = plt.figure(figsize=(15,6))\n",
        "x = content_percent.Answers\n",
        "y = content_percent.Mean\n",
        "plt.scatter(x, y, marker='o')\n",
        "plt.title('Соотношение процента правильных ответов на вопрос с количеством вопросов из одного content_id')\n",
        "plt.xticks(rotation=0)\n",
        "plt.xlabel('Количество отвеченных вопросов')\n",
        "plt.ylabel('Процент правильных ответов')\n",
        "z = np.polyfit(x, y, 1)\n",
        "p = np.poly1d(z)\n",
        "plt.plot(x,p(x),'r--')\n",
        "\n",
        "plt.show()"
      ]
    },
    {
      "cell_type": "code",
      "execution_count": null,
      "id": "f914265b",
      "metadata": {
        "id": "f914265b",
        "outputId": "0f5d85ac-1c57-4384-c05b-c8744e8cc79d"
      },
      "outputs": [
        {
          "data": {
            "text/plain": [
              "prior_question_had_explanation\n",
              "False     909661\n",
              "True     8855555\n",
              "<NA>       39388\n",
              "Name: (answered_correctly, count), dtype: int64"
            ]
          },
          "metadata": {},
          "output_type": "display_data"
        },
        {
          "data": {
            "image/png": "[encoded data removed]",
            "text/plain": [
              "<Figure size 864x288 with 1 Axes>"
            ]
          },
          "metadata": {
            "needs_background": "light"
          },
          "output_type": "display_data"
        }
      ],
      "source": [
        "pq = train_df[train_df['answered_correctly'] != -1].groupby(['prior_question_had_explanation'], dropna=False).agg({'answered_correctly': ['mean', 'count']})\n",
        "display(pq.iloc[:,1])\n",
        "pq = pq.iloc[:,0]\n",
        "\n",
        "fig = plt.figure(figsize=(12,4))\n",
        "pq.plot.barh()\n",
        "plt.title('Сравнение Answered_correctly и Prior Question had explanation')\n",
        "plt.xlabel('Процент правильных ответов')\n",
        "plt.ylabel('Prior question had explanation')\n",
        "plt.xticks(rotation=0)\n",
        "plt.show()\n",
        "#Процент правильных ответов примерно на 17% выше в случае, если prior_question_had_explanation был True, еще немного больше при значении NA"
      ]
    },
    {
      "cell_type": "code",
      "execution_count": null,
      "id": "091ecf7b",
      "metadata": {
        "id": "091ecf7b",
        "outputId": "efcccbe6-ffb4-40a8-9a3f-d250bfe09530"
      },
      "outputs": [
        {
          "data": {
            "text/html": [
              "<div>\n",
              "<style scoped>\n",
              "    .dataframe tbody tr th:only-of-type {\n",
              "        vertical-align: middle;\n",
              "    }\n",
              "\n",
              "    .dataframe tbody tr th {\n",
              "        vertical-align: top;\n",
              "    }\n",
              "\n",
              "    .dataframe thead tr th {\n",
              "        text-align: left;\n",
              "    }\n",
              "\n",
              "    .dataframe thead tr:last-of-type th {\n",
              "        text-align: right;\n",
              "    }\n",
              "</style>\n",
              "<table border=\"1\" class=\"dataframe\">\n",
              "  <thead>\n",
              "    <tr>\n",
              "      <th></th>\n",
              "      <th>answered_correctly</th>\n",
              "      <th>prior_question_elapsed_time</th>\n",
              "    </tr>\n",
              "    <tr>\n",
              "      <th></th>\n",
              "      <th>count</th>\n",
              "      <th>mean</th>\n",
              "    </tr>\n",
              "    <tr>\n",
              "      <th>answered_correctly</th>\n",
              "      <th></th>\n",
              "      <th></th>\n",
              "    </tr>\n",
              "  </thead>\n",
              "  <tbody>\n",
              "    <tr>\n",
              "      <th>0</th>\n",
              "      <td>3347179</td>\n",
              "      <td>25704.232108</td>\n",
              "    </tr>\n",
              "    <tr>\n",
              "      <th>1</th>\n",
              "      <td>6457425</td>\n",
              "      <td>25357.034974</td>\n",
              "    </tr>\n",
              "  </tbody>\n",
              "</table>\n",
              "</div>"
            ],
            "text/plain": [
              "                   answered_correctly prior_question_elapsed_time\n",
              "                                count                        mean\n",
              "answered_correctly                                               \n",
              "0                             3347179                25704.232108\n",
              "1                             6457425                25357.034974"
            ]
          },
          "execution_count": 78,
          "metadata": {},
          "output_type": "execute_result"
        }
      ],
      "source": [
        "pq = train_df[train_df['answered_correctly'] != -1]\n",
        "pq = pq[['prior_question_elapsed_time', 'answered_correctly']]\n",
        "pq = pq.groupby(['answered_correctly']).agg({'answered_correctly': ['count'], 'prior_question_elapsed_time': ['mean']})\n",
        "\n",
        "pq\n",
        "#prior_question_elapsed_time примерно равен в случае правильного ответа и наоборот"
      ]
    },
    {
      "cell_type": "code",
      "execution_count": null,
      "id": "06e06d15",
      "metadata": {
        "id": "06e06d15",
        "outputId": "94a3d8d4-a64f-4b19-af10-011712a05fad"
      },
      "outputs": [
        {
          "data": {
            "image/png": "[encoded data removed]",
            "text/plain": [
              "<Figure size 1080x432 with 1 Axes>"
            ]
          },
          "metadata": {
            "needs_background": "light"
          },
          "output_type": "display_data"
        }
      ],
      "source": [
        "mean_pq = train_df['prior_question_elapsed_time'].astype(\"float64\").mean()\n",
        "\n",
        "condition = ((train_df['answered_correctly'] != -1) & (train_df['prior_question_elapsed_time'].notna()))\n",
        "pq = train_df[condition][['prior_question_elapsed_time', 'answered_correctly']].sample(n=200, random_state=1)\n",
        "pq = pq.set_index('prior_question_elapsed_time').iloc[:,0]\n",
        "\n",
        "fig = plt.figure(figsize=(15,6))\n",
        "x = pq.index\n",
        "y = pq.values\n",
        "plt.scatter(x, y, marker='o')\n",
        "plt.title('Answered_correctly и prior_question_elapsed_time')\n",
        "plt.xticks(rotation=0)\n",
        "plt.xlabel('Prior_question_elapsed_time')\n",
        "plt.ylabel('Answered_correctly')\n",
        "plt.vlines(mean_pq, ymin=-0.1, ymax=1.1)\n",
        "plt.text(x= 27000, y=0.4, s='mean')\n",
        "plt.text(x=80000, y=0.6, s='trend')\n",
        "z = np.polyfit(x, y, 1)\n",
        "p = np.poly1d(z)\n",
        "plt.plot(x,p(x),\"r--\")\n",
        "plt.show()\n",
        "#Глобальный тренд выглядит восходящим"
      ]
    },
    {
      "cell_type": "code",
      "execution_count": null,
      "id": "c87c06e1",
      "metadata": {
        "id": "c87c06e1",
        "outputId": "fc5abcd4-26d2-42cd-e567-bd9dafa0a54c"
      },
      "outputs": [
        {
          "data": {
            "text/html": [
              "<div>\n",
              "<style scoped>\n",
              "    .dataframe tbody tr th:only-of-type {\n",
              "        vertical-align: middle;\n",
              "    }\n",
              "\n",
              "    .dataframe tbody tr th {\n",
              "        vertical-align: top;\n",
              "    }\n",
              "\n",
              "    .dataframe thead th {\n",
              "        text-align: right;\n",
              "    }\n",
              "</style>\n",
              "<table border=\"1\" class=\"dataframe\">\n",
              "  <thead>\n",
              "    <tr style=\"text-align: right;\">\n",
              "      <th></th>\n",
              "      <th>question_id</th>\n",
              "      <th>bundle_id</th>\n",
              "      <th>correct_answer</th>\n",
              "      <th>part</th>\n",
              "      <th>tags</th>\n",
              "    </tr>\n",
              "  </thead>\n",
              "  <tbody>\n",
              "    <tr>\n",
              "      <th>0</th>\n",
              "      <td>0</td>\n",
              "      <td>0</td>\n",
              "      <td>0</td>\n",
              "      <td>1</td>\n",
              "      <td>51 131 162 38</td>\n",
              "    </tr>\n",
              "    <tr>\n",
              "      <th>1</th>\n",
              "      <td>1</td>\n",
              "      <td>1</td>\n",
              "      <td>1</td>\n",
              "      <td>1</td>\n",
              "      <td>131 36 81</td>\n",
              "    </tr>\n",
              "    <tr>\n",
              "      <th>2</th>\n",
              "      <td>2</td>\n",
              "      <td>2</td>\n",
              "      <td>0</td>\n",
              "      <td>1</td>\n",
              "      <td>131 101 162 92</td>\n",
              "    </tr>\n",
              "    <tr>\n",
              "      <th>3</th>\n",
              "      <td>3</td>\n",
              "      <td>3</td>\n",
              "      <td>0</td>\n",
              "      <td>1</td>\n",
              "      <td>131 149 162 29</td>\n",
              "    </tr>\n",
              "    <tr>\n",
              "      <th>4</th>\n",
              "      <td>4</td>\n",
              "      <td>4</td>\n",
              "      <td>3</td>\n",
              "      <td>1</td>\n",
              "      <td>131 5 162 38</td>\n",
              "    </tr>\n",
              "  </tbody>\n",
              "</table>\n",
              "</div>"
            ],
            "text/plain": [
              "   question_id  bundle_id  correct_answer  part            tags\n",
              "0            0          0               0     1   51 131 162 38\n",
              "1            1          1               1     1       131 36 81\n",
              "2            2          2               0     1  131 101 162 92\n",
              "3            3          3               0     1  131 149 162 29\n",
              "4            4          4               3     1    131 5 162 38"
            ]
          },
          "execution_count": 83,
          "metadata": {},
          "output_type": "execute_result"
        }
      ],
      "source": [
        "quest_df.head()"
      ]
    },
    {
      "cell_type": "code",
      "execution_count": null,
      "id": "90bde751",
      "metadata": {
        "id": "90bde751",
        "outputId": "a3dcdd3f-2667-4a1e-f8e3-b144b5faad32"
      },
      "outputs": [
        {
          "data": {
            "text/plain": [
              "(13523, 5)"
            ]
          },
          "execution_count": 84,
          "metadata": {},
          "output_type": "execute_result"
        }
      ],
      "source": [
        "quest_df.shape"
      ]
    },
    {
      "cell_type": "code",
      "execution_count": null,
      "id": "d80d5ff6",
      "metadata": {
        "id": "d80d5ff6",
        "outputId": "8e59edb1-a9aa-4d45-d47f-73026c9e7231"
      },
      "outputs": [
        {
          "data": {
            "text/html": [
              "<div>\n",
              "<style scoped>\n",
              "    .dataframe tbody tr th:only-of-type {\n",
              "        vertical-align: middle;\n",
              "    }\n",
              "\n",
              "    .dataframe tbody tr th {\n",
              "        vertical-align: top;\n",
              "    }\n",
              "\n",
              "    .dataframe thead th {\n",
              "        text-align: right;\n",
              "    }\n",
              "</style>\n",
              "<table border=\"1\" class=\"dataframe\">\n",
              "  <thead>\n",
              "    <tr style=\"text-align: right;\">\n",
              "      <th></th>\n",
              "      <th>question_id</th>\n",
              "      <th>bundle_id</th>\n",
              "      <th>correct_answer</th>\n",
              "      <th>part</th>\n",
              "      <th>tags</th>\n",
              "    </tr>\n",
              "  </thead>\n",
              "  <tbody>\n",
              "    <tr>\n",
              "      <th>10033</th>\n",
              "      <td>10033</td>\n",
              "      <td>10033</td>\n",
              "      <td>2</td>\n",
              "      <td>6</td>\n",
              "      <td>NaN</td>\n",
              "    </tr>\n",
              "  </tbody>\n",
              "</table>\n",
              "</div>"
            ],
            "text/plain": [
              "       question_id  bundle_id  correct_answer  part tags\n",
              "10033        10033      10033               2     6  NaN"
            ]
          },
          "execution_count": 85,
          "metadata": {},
          "output_type": "execute_result"
        }
      ],
      "source": [
        "quest_df[quest_df['tags'].isna()]\n",
        "#только один question_id имеем тег NaN"
      ]
    },
    {
      "cell_type": "code",
      "execution_count": null,
      "id": "7cd6fb43",
      "metadata": {
        "id": "7cd6fb43",
        "outputId": "3a54b4ce-8a09-49ea-a184-0d3fccdf4f6e"
      },
      "outputs": [
        {
          "data": {
            "text/plain": [
              "188"
            ]
          },
          "execution_count": 87,
          "metadata": {},
          "output_type": "execute_result"
        }
      ],
      "source": [
        "quest_df['tags'] = quest_df['tags'].astype(str)\n",
        "\n",
        "tags = [x.split() for x in quest_df[quest_df['tags'] != \"nan\"].tags.values]\n",
        "tags = [item for elem in tags for item in elem]\n",
        "tags = set(tags)\n",
        "tags = list(tags)\n",
        "\n",
        "len(tags)\n",
        "#188 различных тегов"
      ]
    },
    {
      "cell_type": "code",
      "execution_count": null,
      "id": "efe04da5",
      "metadata": {
        "id": "efe04da5",
        "outputId": "e262729d-1b5c-4f0a-8e88-582fd63f857e"
      },
      "outputs": [
        {
          "data": {
            "text/html": [
              "<div>\n",
              "<style scoped>\n",
              "    .dataframe tbody tr th:only-of-type {\n",
              "        vertical-align: middle;\n",
              "    }\n",
              "\n",
              "    .dataframe tbody tr th {\n",
              "        vertical-align: top;\n",
              "    }\n",
              "\n",
              "    .dataframe thead th {\n",
              "        text-align: right;\n",
              "    }\n",
              "</style>\n",
              "<table border=\"1\" class=\"dataframe\">\n",
              "  <thead>\n",
              "    <tr style=\"text-align: right;\">\n",
              "      <th></th>\n",
              "      <th>question_id</th>\n",
              "      <th>bundle_id</th>\n",
              "      <th>correct_answer</th>\n",
              "      <th>part</th>\n",
              "      <th>tags</th>\n",
              "      <th>Wrong</th>\n",
              "      <th>Right</th>\n",
              "    </tr>\n",
              "  </thead>\n",
              "  <tbody>\n",
              "    <tr>\n",
              "      <th>0</th>\n",
              "      <td>0</td>\n",
              "      <td>0</td>\n",
              "      <td>0</td>\n",
              "      <td>1</td>\n",
              "      <td>[51, 131, 162, 38]</td>\n",
              "      <td>63.0</td>\n",
              "      <td>628.0</td>\n",
              "    </tr>\n",
              "    <tr>\n",
              "      <th>1</th>\n",
              "      <td>1</td>\n",
              "      <td>1</td>\n",
              "      <td>1</td>\n",
              "      <td>1</td>\n",
              "      <td>[131, 36, 81]</td>\n",
              "      <td>77.0</td>\n",
              "      <td>649.0</td>\n",
              "    </tr>\n",
              "    <tr>\n",
              "      <th>2</th>\n",
              "      <td>2</td>\n",
              "      <td>2</td>\n",
              "      <td>0</td>\n",
              "      <td>1</td>\n",
              "      <td>[131, 101, 162, 92]</td>\n",
              "      <td>1970.0</td>\n",
              "      <td>2531.0</td>\n",
              "    </tr>\n",
              "    <tr>\n",
              "      <th>3</th>\n",
              "      <td>3</td>\n",
              "      <td>3</td>\n",
              "      <td>0</td>\n",
              "      <td>1</td>\n",
              "      <td>[131, 149, 162, 29]</td>\n",
              "      <td>500.0</td>\n",
              "      <td>1776.0</td>\n",
              "    </tr>\n",
              "    <tr>\n",
              "      <th>4</th>\n",
              "      <td>4</td>\n",
              "      <td>4</td>\n",
              "      <td>3</td>\n",
              "      <td>1</td>\n",
              "      <td>[131, 5, 162, 38]</td>\n",
              "      <td>1173.0</td>\n",
              "      <td>1980.0</td>\n",
              "    </tr>\n",
              "  </tbody>\n",
              "</table>\n",
              "</div>"
            ],
            "text/plain": [
              "   question_id  bundle_id  correct_answer  part                 tags   Wrong  \\\n",
              "0            0          0               0     1   [51, 131, 162, 38]    63.0   \n",
              "1            1          1               1     1        [131, 36, 81]    77.0   \n",
              "2            2          2               0     1  [131, 101, 162, 92]  1970.0   \n",
              "3            3          3               0     1  [131, 149, 162, 29]   500.0   \n",
              "4            4          4               3     1    [131, 5, 162, 38]  1173.0   \n",
              "\n",
              "    Right  \n",
              "0   628.0  \n",
              "1   649.0  \n",
              "2  2531.0  \n",
              "3  1776.0  \n",
              "4  1980.0  "
            ]
          },
          "execution_count": 92,
          "metadata": {},
          "output_type": "execute_result"
        }
      ],
      "source": [
        "#Узнаем, как много правильных и неправильных ответов было на каждый question_id\n",
        "#tags_list = [x.split() for x in quest_df['tags'].values]\n",
        "quest_df['tags'] = tags_list\n",
        "quest_df.head()\n",
        "\n",
        "correct = train_df[train_df['answered_correctly'] != -1].groupby([\"content_id\", 'answered_correctly'], as_index=False).size()\n",
        "correct = correct.pivot(index= \"content_id\", columns='answered_correctly', values='size')\n",
        "correct.columns = ['Wrong', 'Right']\n",
        "correct = correct.fillna(0)\n",
        "correct[['Wrong', 'Right']] = correct[['Wrong', 'Right']].astype(int)\n",
        "quest_df = quest_df.merge(correct, left_on = \"question_id\", right_on = \"content_id\", how = \"left\")\n",
        "quest_df.head()"
      ]
    },
    {
      "cell_type": "code",
      "execution_count": null,
      "id": "5341d9c1",
      "metadata": {
        "id": "5341d9c1",
        "outputId": "6cb941d6-c347-4dba-f21b-32fd130d2563"
      },
      "outputs": [
        {
          "data": {
            "text/plain": [
              "array([list(['51', '131', '162', '38']), list(['131', '36', '81']),\n",
              "       list(['131', '101', '162', '92']), ..., list(['73']),\n",
              "       list(['125']), list(['55'])], dtype=object)"
            ]
          },
          "execution_count": 93,
          "metadata": {},
          "output_type": "execute_result"
        }
      ],
      "source": [
        "quest_df['tags'].values"
      ]
    },
    {
      "cell_type": "code",
      "execution_count": null,
      "id": "3e3d9842",
      "metadata": {
        "id": "3e3d9842",
        "outputId": "f6cf6b60-68c0-4fc9-e0f5-3f2815061d0c"
      },
      "outputs": [
        {
          "name": "stderr",
          "output_type": "stream",
          "text": [
            "C:\\Users\\vitek\\AppData\\Local\\Temp\\ipykernel_5804\\1387603164.py:9: FutureWarning: The frame.append method is deprecated and will be removed from pandas in a future version. Use pandas.concat instead.\n",
            "  tags_df = tags_df.append(df1)\n",
            "C:\\Users\\vitek\\AppData\\Local\\Temp\\ipykernel_5804\\1387603164.py:9: FutureWarning: The frame.append method is deprecated and will be removed from pandas in a future version. Use pandas.concat instead.\n",
            "  tags_df = tags_df.append(df1)\n",
            "C:\\Users\\vitek\\AppData\\Local\\Temp\\ipykernel_5804\\1387603164.py:9: FutureWarning: The frame.append method is deprecated and will be removed from pandas in a future version. Use pandas.concat instead.\n",
            "  tags_df = tags_df.append(df1)\n",
            "C:\\Users\\vitek\\AppData\\Local\\Temp\\ipykernel_5804\\1387603164.py:9: FutureWarning: The frame.append method is deprecated and will be removed from pandas in a future version. Use pandas.concat instead.\n",
            "  tags_df = tags_df.append(df1)\n",
            "C:\\Users\\vitek\\AppData\\Local\\Temp\\ipykernel_5804\\1387603164.py:9: FutureWarning: The frame.append method is deprecated and will be removed from pandas in a future version. Use pandas.concat instead.\n",
            "  tags_df = tags_df.append(df1)\n",
            "C:\\Users\\vitek\\AppData\\Local\\Temp\\ipykernel_5804\\1387603164.py:9: FutureWarning: The frame.append method is deprecated and will be removed from pandas in a future version. Use pandas.concat instead.\n",
            "  tags_df = tags_df.append(df1)\n",
            "C:\\Users\\vitek\\AppData\\Local\\Temp\\ipykernel_5804\\1387603164.py:9: FutureWarning: The frame.append method is deprecated and will be removed from pandas in a future version. Use pandas.concat instead.\n",
            "  tags_df = tags_df.append(df1)\n",
            "C:\\Users\\vitek\\AppData\\Local\\Temp\\ipykernel_5804\\1387603164.py:9: FutureWarning: The frame.append method is deprecated and will be removed from pandas in a future version. Use pandas.concat instead.\n",
            "  tags_df = tags_df.append(df1)\n",
            "C:\\Users\\vitek\\AppData\\Local\\Temp\\ipykernel_5804\\1387603164.py:9: FutureWarning: The frame.append method is deprecated and will be removed from pandas in a future version. Use pandas.concat instead.\n",
            "  tags_df = tags_df.append(df1)\n",
            "C:\\Users\\vitek\\AppData\\Local\\Temp\\ipykernel_5804\\1387603164.py:9: FutureWarning: The frame.append method is deprecated and will be removed from pandas in a future version. Use pandas.concat instead.\n",
            "  tags_df = tags_df.append(df1)\n",
            "C:\\Users\\vitek\\AppData\\Local\\Temp\\ipykernel_5804\\1387603164.py:9: FutureWarning: The frame.append method is deprecated and will be removed from pandas in a future version. Use pandas.concat instead.\n",
            "  tags_df = tags_df.append(df1)\n",
            "C:\\Users\\vitek\\AppData\\Local\\Temp\\ipykernel_5804\\1387603164.py:9: FutureWarning: The frame.append method is deprecated and will be removed from pandas in a future version. Use pandas.concat instead.\n",
            "  tags_df = tags_df.append(df1)\n",
            "C:\\Users\\vitek\\AppData\\Local\\Temp\\ipykernel_5804\\1387603164.py:9: FutureWarning: The frame.append method is deprecated and will be removed from pandas in a future version. Use pandas.concat instead.\n",
            "  tags_df = tags_df.append(df1)\n",
            "C:\\Users\\vitek\\AppData\\Local\\Temp\\ipykernel_5804\\1387603164.py:9: FutureWarning: The frame.append method is deprecated and will be removed from pandas in a future version. Use pandas.concat instead.\n",
            "  tags_df = tags_df.append(df1)\n",
            "C:\\Users\\vitek\\AppData\\Local\\Temp\\ipykernel_5804\\1387603164.py:9: FutureWarning: The frame.append method is deprecated and will be removed from pandas in a future version. Use pandas.concat instead.\n",
            "  tags_df = tags_df.append(df1)\n",
            "C:\\Users\\vitek\\AppData\\Local\\Temp\\ipykernel_5804\\1387603164.py:9: FutureWarning: The frame.append method is deprecated and will be removed from pandas in a future version. Use pandas.concat instead.\n",
            "  tags_df = tags_df.append(df1)\n",
            "C:\\Users\\vitek\\AppData\\Local\\Temp\\ipykernel_5804\\1387603164.py:9: FutureWarning: The frame.append method is deprecated and will be removed from pandas in a future version. Use pandas.concat instead.\n",
            "  tags_df = tags_df.append(df1)\n",
            "C:\\Users\\vitek\\AppData\\Local\\Temp\\ipykernel_5804\\1387603164.py:9: FutureWarning: The frame.append method is deprecated and will be removed from pandas in a future version. Use pandas.concat instead.\n",
            "  tags_df = tags_df.append(df1)\n",
            "C:\\Users\\vitek\\AppData\\Local\\Temp\\ipykernel_5804\\1387603164.py:9: FutureWarning: The frame.append method is deprecated and will be removed from pandas in a future version. Use pandas.concat instead.\n",
            "  tags_df = tags_df.append(df1)\n",
            "C:\\Users\\vitek\\AppData\\Local\\Temp\\ipykernel_5804\\1387603164.py:9: FutureWarning: The frame.append method is deprecated and will be removed from pandas in a future version. Use pandas.concat instead.\n",
            "  tags_df = tags_df.append(df1)\n",
            "C:\\Users\\vitek\\AppData\\Local\\Temp\\ipykernel_5804\\1387603164.py:9: FutureWarning: The frame.append method is deprecated and will be removed from pandas in a future version. Use pandas.concat instead.\n",
            "  tags_df = tags_df.append(df1)\n",
            "C:\\Users\\vitek\\AppData\\Local\\Temp\\ipykernel_5804\\1387603164.py:9: FutureWarning: The frame.append method is deprecated and will be removed from pandas in a future version. Use pandas.concat instead.\n",
            "  tags_df = tags_df.append(df1)\n",
            "C:\\Users\\vitek\\AppData\\Local\\Temp\\ipykernel_5804\\1387603164.py:9: FutureWarning: The frame.append method is deprecated and will be removed from pandas in a future version. Use pandas.concat instead.\n",
            "  tags_df = tags_df.append(df1)\n",
            "C:\\Users\\vitek\\AppData\\Local\\Temp\\ipykernel_5804\\1387603164.py:9: FutureWarning: The frame.append method is deprecated and will be removed from pandas in a future version. Use pandas.concat instead.\n",
            "  tags_df = tags_df.append(df1)\n",
            "C:\\Users\\vitek\\AppData\\Local\\Temp\\ipykernel_5804\\1387603164.py:9: FutureWarning: The frame.append method is deprecated and will be removed from pandas in a future version. Use pandas.concat instead.\n",
            "  tags_df = tags_df.append(df1)\n",
            "C:\\Users\\vitek\\AppData\\Local\\Temp\\ipykernel_5804\\1387603164.py:9: FutureWarning: The frame.append method is deprecated and will be removed from pandas in a future version. Use pandas.concat instead.\n",
            "  tags_df = tags_df.append(df1)\n",
            "C:\\Users\\vitek\\AppData\\Local\\Temp\\ipykernel_5804\\1387603164.py:9: FutureWarning: The frame.append method is deprecated and will be removed from pandas in a future version. Use pandas.concat instead.\n",
            "  tags_df = tags_df.append(df1)\n",
            "C:\\Users\\vitek\\AppData\\Local\\Temp\\ipykernel_5804\\1387603164.py:9: FutureWarning: The frame.append method is deprecated and will be removed from pandas in a future version. Use pandas.concat instead.\n",
            "  tags_df = tags_df.append(df1)\n",
            "C:\\Users\\vitek\\AppData\\Local\\Temp\\ipykernel_5804\\1387603164.py:9: FutureWarning: The frame.append method is deprecated and will be removed from pandas in a future version. Use pandas.concat instead.\n",
            "  tags_df = tags_df.append(df1)\n",
            "C:\\Users\\vitek\\AppData\\Local\\Temp\\ipykernel_5804\\1387603164.py:9: FutureWarning: The frame.append method is deprecated and will be removed from pandas in a future version. Use pandas.concat instead.\n",
            "  tags_df = tags_df.append(df1)\n",
            "C:\\Users\\vitek\\AppData\\Local\\Temp\\ipykernel_5804\\1387603164.py:9: FutureWarning: The frame.append method is deprecated and will be removed from pandas in a future version. Use pandas.concat instead.\n",
            "  tags_df = tags_df.append(df1)\n",
            "C:\\Users\\vitek\\AppData\\Local\\Temp\\ipykernel_5804\\1387603164.py:9: FutureWarning: The frame.append method is deprecated and will be removed from pandas in a future version. Use pandas.concat instead.\n",
            "  tags_df = tags_df.append(df1)\n",
            "C:\\Users\\vitek\\AppData\\Local\\Temp\\ipykernel_5804\\1387603164.py:9: FutureWarning: The frame.append method is deprecated and will be removed from pandas in a future version. Use pandas.concat instead.\n",
            "  tags_df = tags_df.append(df1)\n",
            "C:\\Users\\vitek\\AppData\\Local\\Temp\\ipykernel_5804\\1387603164.py:9: FutureWarning: The frame.append method is deprecated and will be removed from pandas in a future version. Use pandas.concat instead.\n",
            "  tags_df = tags_df.append(df1)\n",
            "C:\\Users\\vitek\\AppData\\Local\\Temp\\ipykernel_5804\\1387603164.py:9: FutureWarning: The frame.append method is deprecated and will be removed from pandas in a future version. Use pandas.concat instead.\n",
            "  tags_df = tags_df.append(df1)\n",
            "C:\\Users\\vitek\\AppData\\Local\\Temp\\ipykernel_5804\\1387603164.py:9: FutureWarning: The frame.append method is deprecated and will be removed from pandas in a future version. Use pandas.concat instead.\n",
            "  tags_df = tags_df.append(df1)\n",
            "C:\\Users\\vitek\\AppData\\Local\\Temp\\ipykernel_5804\\1387603164.py:9: FutureWarning: The frame.append method is deprecated and will be removed from pandas in a future version. Use pandas.concat instead.\n",
            "  tags_df = tags_df.append(df1)\n",
            "C:\\Users\\vitek\\AppData\\Local\\Temp\\ipykernel_5804\\1387603164.py:9: FutureWarning: The frame.append method is deprecated and will be removed from pandas in a future version. Use pandas.concat instead.\n",
            "  tags_df = tags_df.append(df1)\n",
            "C:\\Users\\vitek\\AppData\\Local\\Temp\\ipykernel_5804\\1387603164.py:9: FutureWarning: The frame.append method is deprecated and will be removed from pandas in a future version. Use pandas.concat instead.\n",
            "  tags_df = tags_df.append(df1)\n"
          ]
        },
        {
          "name": "stderr",
          "output_type": "stream",
          "text": [
            "C:\\Users\\vitek\\AppData\\Local\\Temp\\ipykernel_5804\\1387603164.py:9: FutureWarning: The frame.append method is deprecated and will be removed from pandas in a future version. Use pandas.concat instead.\n",
            "  tags_df = tags_df.append(df1)\n",
            "C:\\Users\\vitek\\AppData\\Local\\Temp\\ipykernel_5804\\1387603164.py:9: FutureWarning: The frame.append method is deprecated and will be removed from pandas in a future version. Use pandas.concat instead.\n",
            "  tags_df = tags_df.append(df1)\n",
            "C:\\Users\\vitek\\AppData\\Local\\Temp\\ipykernel_5804\\1387603164.py:9: FutureWarning: The frame.append method is deprecated and will be removed from pandas in a future version. Use pandas.concat instead.\n",
            "  tags_df = tags_df.append(df1)\n",
            "C:\\Users\\vitek\\AppData\\Local\\Temp\\ipykernel_5804\\1387603164.py:9: FutureWarning: The frame.append method is deprecated and will be removed from pandas in a future version. Use pandas.concat instead.\n",
            "  tags_df = tags_df.append(df1)\n",
            "C:\\Users\\vitek\\AppData\\Local\\Temp\\ipykernel_5804\\1387603164.py:9: FutureWarning: The frame.append method is deprecated and will be removed from pandas in a future version. Use pandas.concat instead.\n",
            "  tags_df = tags_df.append(df1)\n",
            "C:\\Users\\vitek\\AppData\\Local\\Temp\\ipykernel_5804\\1387603164.py:9: FutureWarning: The frame.append method is deprecated and will be removed from pandas in a future version. Use pandas.concat instead.\n",
            "  tags_df = tags_df.append(df1)\n",
            "C:\\Users\\vitek\\AppData\\Local\\Temp\\ipykernel_5804\\1387603164.py:9: FutureWarning: The frame.append method is deprecated and will be removed from pandas in a future version. Use pandas.concat instead.\n",
            "  tags_df = tags_df.append(df1)\n",
            "C:\\Users\\vitek\\AppData\\Local\\Temp\\ipykernel_5804\\1387603164.py:9: FutureWarning: The frame.append method is deprecated and will be removed from pandas in a future version. Use pandas.concat instead.\n",
            "  tags_df = tags_df.append(df1)\n",
            "C:\\Users\\vitek\\AppData\\Local\\Temp\\ipykernel_5804\\1387603164.py:9: FutureWarning: The frame.append method is deprecated and will be removed from pandas in a future version. Use pandas.concat instead.\n",
            "  tags_df = tags_df.append(df1)\n",
            "C:\\Users\\vitek\\AppData\\Local\\Temp\\ipykernel_5804\\1387603164.py:9: FutureWarning: The frame.append method is deprecated and will be removed from pandas in a future version. Use pandas.concat instead.\n",
            "  tags_df = tags_df.append(df1)\n",
            "C:\\Users\\vitek\\AppData\\Local\\Temp\\ipykernel_5804\\1387603164.py:9: FutureWarning: The frame.append method is deprecated and will be removed from pandas in a future version. Use pandas.concat instead.\n",
            "  tags_df = tags_df.append(df1)\n",
            "C:\\Users\\vitek\\AppData\\Local\\Temp\\ipykernel_5804\\1387603164.py:9: FutureWarning: The frame.append method is deprecated and will be removed from pandas in a future version. Use pandas.concat instead.\n",
            "  tags_df = tags_df.append(df1)\n",
            "C:\\Users\\vitek\\AppData\\Local\\Temp\\ipykernel_5804\\1387603164.py:9: FutureWarning: The frame.append method is deprecated and will be removed from pandas in a future version. Use pandas.concat instead.\n",
            "  tags_df = tags_df.append(df1)\n",
            "C:\\Users\\vitek\\AppData\\Local\\Temp\\ipykernel_5804\\1387603164.py:9: FutureWarning: The frame.append method is deprecated and will be removed from pandas in a future version. Use pandas.concat instead.\n",
            "  tags_df = tags_df.append(df1)\n",
            "C:\\Users\\vitek\\AppData\\Local\\Temp\\ipykernel_5804\\1387603164.py:9: FutureWarning: The frame.append method is deprecated and will be removed from pandas in a future version. Use pandas.concat instead.\n",
            "  tags_df = tags_df.append(df1)\n",
            "C:\\Users\\vitek\\AppData\\Local\\Temp\\ipykernel_5804\\1387603164.py:9: FutureWarning: The frame.append method is deprecated and will be removed from pandas in a future version. Use pandas.concat instead.\n",
            "  tags_df = tags_df.append(df1)\n",
            "C:\\Users\\vitek\\AppData\\Local\\Temp\\ipykernel_5804\\1387603164.py:9: FutureWarning: The frame.append method is deprecated and will be removed from pandas in a future version. Use pandas.concat instead.\n",
            "  tags_df = tags_df.append(df1)\n",
            "C:\\Users\\vitek\\AppData\\Local\\Temp\\ipykernel_5804\\1387603164.py:9: FutureWarning: The frame.append method is deprecated and will be removed from pandas in a future version. Use pandas.concat instead.\n",
            "  tags_df = tags_df.append(df1)\n",
            "C:\\Users\\vitek\\AppData\\Local\\Temp\\ipykernel_5804\\1387603164.py:9: FutureWarning: The frame.append method is deprecated and will be removed from pandas in a future version. Use pandas.concat instead.\n",
            "  tags_df = tags_df.append(df1)\n",
            "C:\\Users\\vitek\\AppData\\Local\\Temp\\ipykernel_5804\\1387603164.py:9: FutureWarning: The frame.append method is deprecated and will be removed from pandas in a future version. Use pandas.concat instead.\n",
            "  tags_df = tags_df.append(df1)\n",
            "C:\\Users\\vitek\\AppData\\Local\\Temp\\ipykernel_5804\\1387603164.py:9: FutureWarning: The frame.append method is deprecated and will be removed from pandas in a future version. Use pandas.concat instead.\n",
            "  tags_df = tags_df.append(df1)\n",
            "C:\\Users\\vitek\\AppData\\Local\\Temp\\ipykernel_5804\\1387603164.py:9: FutureWarning: The frame.append method is deprecated and will be removed from pandas in a future version. Use pandas.concat instead.\n",
            "  tags_df = tags_df.append(df1)\n",
            "C:\\Users\\vitek\\AppData\\Local\\Temp\\ipykernel_5804\\1387603164.py:9: FutureWarning: The frame.append method is deprecated and will be removed from pandas in a future version. Use pandas.concat instead.\n",
            "  tags_df = tags_df.append(df1)\n",
            "C:\\Users\\vitek\\AppData\\Local\\Temp\\ipykernel_5804\\1387603164.py:9: FutureWarning: The frame.append method is deprecated and will be removed from pandas in a future version. Use pandas.concat instead.\n",
            "  tags_df = tags_df.append(df1)\n",
            "C:\\Users\\vitek\\AppData\\Local\\Temp\\ipykernel_5804\\1387603164.py:9: FutureWarning: The frame.append method is deprecated and will be removed from pandas in a future version. Use pandas.concat instead.\n",
            "  tags_df = tags_df.append(df1)\n",
            "C:\\Users\\vitek\\AppData\\Local\\Temp\\ipykernel_5804\\1387603164.py:9: FutureWarning: The frame.append method is deprecated and will be removed from pandas in a future version. Use pandas.concat instead.\n",
            "  tags_df = tags_df.append(df1)\n",
            "C:\\Users\\vitek\\AppData\\Local\\Temp\\ipykernel_5804\\1387603164.py:9: FutureWarning: The frame.append method is deprecated and will be removed from pandas in a future version. Use pandas.concat instead.\n",
            "  tags_df = tags_df.append(df1)\n",
            "C:\\Users\\vitek\\AppData\\Local\\Temp\\ipykernel_5804\\1387603164.py:9: FutureWarning: The frame.append method is deprecated and will be removed from pandas in a future version. Use pandas.concat instead.\n",
            "  tags_df = tags_df.append(df1)\n",
            "C:\\Users\\vitek\\AppData\\Local\\Temp\\ipykernel_5804\\1387603164.py:9: FutureWarning: The frame.append method is deprecated and will be removed from pandas in a future version. Use pandas.concat instead.\n",
            "  tags_df = tags_df.append(df1)\n",
            "C:\\Users\\vitek\\AppData\\Local\\Temp\\ipykernel_5804\\1387603164.py:9: FutureWarning: The frame.append method is deprecated and will be removed from pandas in a future version. Use pandas.concat instead.\n",
            "  tags_df = tags_df.append(df1)\n",
            "C:\\Users\\vitek\\AppData\\Local\\Temp\\ipykernel_5804\\1387603164.py:9: FutureWarning: The frame.append method is deprecated and will be removed from pandas in a future version. Use pandas.concat instead.\n",
            "  tags_df = tags_df.append(df1)\n",
            "C:\\Users\\vitek\\AppData\\Local\\Temp\\ipykernel_5804\\1387603164.py:9: FutureWarning: The frame.append method is deprecated and will be removed from pandas in a future version. Use pandas.concat instead.\n",
            "  tags_df = tags_df.append(df1)\n",
            "C:\\Users\\vitek\\AppData\\Local\\Temp\\ipykernel_5804\\1387603164.py:9: FutureWarning: The frame.append method is deprecated and will be removed from pandas in a future version. Use pandas.concat instead.\n",
            "  tags_df = tags_df.append(df1)\n",
            "C:\\Users\\vitek\\AppData\\Local\\Temp\\ipykernel_5804\\1387603164.py:9: FutureWarning: The frame.append method is deprecated and will be removed from pandas in a future version. Use pandas.concat instead.\n",
            "  tags_df = tags_df.append(df1)\n",
            "C:\\Users\\vitek\\AppData\\Local\\Temp\\ipykernel_5804\\1387603164.py:9: FutureWarning: The frame.append method is deprecated and will be removed from pandas in a future version. Use pandas.concat instead.\n",
            "  tags_df = tags_df.append(df1)\n",
            "C:\\Users\\vitek\\AppData\\Local\\Temp\\ipykernel_5804\\1387603164.py:9: FutureWarning: The frame.append method is deprecated and will be removed from pandas in a future version. Use pandas.concat instead.\n",
            "  tags_df = tags_df.append(df1)\n",
            "C:\\Users\\vitek\\AppData\\Local\\Temp\\ipykernel_5804\\1387603164.py:9: FutureWarning: The frame.append method is deprecated and will be removed from pandas in a future version. Use pandas.concat instead.\n",
            "  tags_df = tags_df.append(df1)\n",
            "C:\\Users\\vitek\\AppData\\Local\\Temp\\ipykernel_5804\\1387603164.py:9: FutureWarning: The frame.append method is deprecated and will be removed from pandas in a future version. Use pandas.concat instead.\n",
            "  tags_df = tags_df.append(df1)\n",
            "C:\\Users\\vitek\\AppData\\Local\\Temp\\ipykernel_5804\\1387603164.py:9: FutureWarning: The frame.append method is deprecated and will be removed from pandas in a future version. Use pandas.concat instead.\n",
            "  tags_df = tags_df.append(df1)\n"
          ]
        },
        {
          "name": "stderr",
          "output_type": "stream",
          "text": [
            "C:\\Users\\vitek\\AppData\\Local\\Temp\\ipykernel_5804\\1387603164.py:9: FutureWarning: The frame.append method is deprecated and will be removed from pandas in a future version. Use pandas.concat instead.\n",
            "  tags_df = tags_df.append(df1)\n",
            "C:\\Users\\vitek\\AppData\\Local\\Temp\\ipykernel_5804\\1387603164.py:9: FutureWarning: The frame.append method is deprecated and will be removed from pandas in a future version. Use pandas.concat instead.\n",
            "  tags_df = tags_df.append(df1)\n",
            "C:\\Users\\vitek\\AppData\\Local\\Temp\\ipykernel_5804\\1387603164.py:9: FutureWarning: The frame.append method is deprecated and will be removed from pandas in a future version. Use pandas.concat instead.\n",
            "  tags_df = tags_df.append(df1)\n",
            "C:\\Users\\vitek\\AppData\\Local\\Temp\\ipykernel_5804\\1387603164.py:9: FutureWarning: The frame.append method is deprecated and will be removed from pandas in a future version. Use pandas.concat instead.\n",
            "  tags_df = tags_df.append(df1)\n",
            "C:\\Users\\vitek\\AppData\\Local\\Temp\\ipykernel_5804\\1387603164.py:9: FutureWarning: The frame.append method is deprecated and will be removed from pandas in a future version. Use pandas.concat instead.\n",
            "  tags_df = tags_df.append(df1)\n",
            "C:\\Users\\vitek\\AppData\\Local\\Temp\\ipykernel_5804\\1387603164.py:9: FutureWarning: The frame.append method is deprecated and will be removed from pandas in a future version. Use pandas.concat instead.\n",
            "  tags_df = tags_df.append(df1)\n",
            "C:\\Users\\vitek\\AppData\\Local\\Temp\\ipykernel_5804\\1387603164.py:9: FutureWarning: The frame.append method is deprecated and will be removed from pandas in a future version. Use pandas.concat instead.\n",
            "  tags_df = tags_df.append(df1)\n",
            "C:\\Users\\vitek\\AppData\\Local\\Temp\\ipykernel_5804\\1387603164.py:9: FutureWarning: The frame.append method is deprecated and will be removed from pandas in a future version. Use pandas.concat instead.\n",
            "  tags_df = tags_df.append(df1)\n",
            "C:\\Users\\vitek\\AppData\\Local\\Temp\\ipykernel_5804\\1387603164.py:9: FutureWarning: The frame.append method is deprecated and will be removed from pandas in a future version. Use pandas.concat instead.\n",
            "  tags_df = tags_df.append(df1)\n",
            "C:\\Users\\vitek\\AppData\\Local\\Temp\\ipykernel_5804\\1387603164.py:9: FutureWarning: The frame.append method is deprecated and will be removed from pandas in a future version. Use pandas.concat instead.\n",
            "  tags_df = tags_df.append(df1)\n",
            "C:\\Users\\vitek\\AppData\\Local\\Temp\\ipykernel_5804\\1387603164.py:9: FutureWarning: The frame.append method is deprecated and will be removed from pandas in a future version. Use pandas.concat instead.\n",
            "  tags_df = tags_df.append(df1)\n",
            "C:\\Users\\vitek\\AppData\\Local\\Temp\\ipykernel_5804\\1387603164.py:9: FutureWarning: The frame.append method is deprecated and will be removed from pandas in a future version. Use pandas.concat instead.\n",
            "  tags_df = tags_df.append(df1)\n",
            "C:\\Users\\vitek\\AppData\\Local\\Temp\\ipykernel_5804\\1387603164.py:9: FutureWarning: The frame.append method is deprecated and will be removed from pandas in a future version. Use pandas.concat instead.\n",
            "  tags_df = tags_df.append(df1)\n",
            "C:\\Users\\vitek\\AppData\\Local\\Temp\\ipykernel_5804\\1387603164.py:9: FutureWarning: The frame.append method is deprecated and will be removed from pandas in a future version. Use pandas.concat instead.\n",
            "  tags_df = tags_df.append(df1)\n",
            "C:\\Users\\vitek\\AppData\\Local\\Temp\\ipykernel_5804\\1387603164.py:9: FutureWarning: The frame.append method is deprecated and will be removed from pandas in a future version. Use pandas.concat instead.\n",
            "  tags_df = tags_df.append(df1)\n",
            "C:\\Users\\vitek\\AppData\\Local\\Temp\\ipykernel_5804\\1387603164.py:9: FutureWarning: The frame.append method is deprecated and will be removed from pandas in a future version. Use pandas.concat instead.\n",
            "  tags_df = tags_df.append(df1)\n",
            "C:\\Users\\vitek\\AppData\\Local\\Temp\\ipykernel_5804\\1387603164.py:9: FutureWarning: The frame.append method is deprecated and will be removed from pandas in a future version. Use pandas.concat instead.\n",
            "  tags_df = tags_df.append(df1)\n",
            "C:\\Users\\vitek\\AppData\\Local\\Temp\\ipykernel_5804\\1387603164.py:9: FutureWarning: The frame.append method is deprecated and will be removed from pandas in a future version. Use pandas.concat instead.\n",
            "  tags_df = tags_df.append(df1)\n",
            "C:\\Users\\vitek\\AppData\\Local\\Temp\\ipykernel_5804\\1387603164.py:9: FutureWarning: The frame.append method is deprecated and will be removed from pandas in a future version. Use pandas.concat instead.\n",
            "  tags_df = tags_df.append(df1)\n",
            "C:\\Users\\vitek\\AppData\\Local\\Temp\\ipykernel_5804\\1387603164.py:9: FutureWarning: The frame.append method is deprecated and will be removed from pandas in a future version. Use pandas.concat instead.\n",
            "  tags_df = tags_df.append(df1)\n",
            "C:\\Users\\vitek\\AppData\\Local\\Temp\\ipykernel_5804\\1387603164.py:9: FutureWarning: The frame.append method is deprecated and will be removed from pandas in a future version. Use pandas.concat instead.\n",
            "  tags_df = tags_df.append(df1)\n",
            "C:\\Users\\vitek\\AppData\\Local\\Temp\\ipykernel_5804\\1387603164.py:9: FutureWarning: The frame.append method is deprecated and will be removed from pandas in a future version. Use pandas.concat instead.\n",
            "  tags_df = tags_df.append(df1)\n",
            "C:\\Users\\vitek\\AppData\\Local\\Temp\\ipykernel_5804\\1387603164.py:9: FutureWarning: The frame.append method is deprecated and will be removed from pandas in a future version. Use pandas.concat instead.\n",
            "  tags_df = tags_df.append(df1)\n",
            "C:\\Users\\vitek\\AppData\\Local\\Temp\\ipykernel_5804\\1387603164.py:9: FutureWarning: The frame.append method is deprecated and will be removed from pandas in a future version. Use pandas.concat instead.\n",
            "  tags_df = tags_df.append(df1)\n",
            "C:\\Users\\vitek\\AppData\\Local\\Temp\\ipykernel_5804\\1387603164.py:9: FutureWarning: The frame.append method is deprecated and will be removed from pandas in a future version. Use pandas.concat instead.\n",
            "  tags_df = tags_df.append(df1)\n",
            "C:\\Users\\vitek\\AppData\\Local\\Temp\\ipykernel_5804\\1387603164.py:9: FutureWarning: The frame.append method is deprecated and will be removed from pandas in a future version. Use pandas.concat instead.\n",
            "  tags_df = tags_df.append(df1)\n",
            "C:\\Users\\vitek\\AppData\\Local\\Temp\\ipykernel_5804\\1387603164.py:9: FutureWarning: The frame.append method is deprecated and will be removed from pandas in a future version. Use pandas.concat instead.\n",
            "  tags_df = tags_df.append(df1)\n",
            "C:\\Users\\vitek\\AppData\\Local\\Temp\\ipykernel_5804\\1387603164.py:9: FutureWarning: The frame.append method is deprecated and will be removed from pandas in a future version. Use pandas.concat instead.\n",
            "  tags_df = tags_df.append(df1)\n",
            "C:\\Users\\vitek\\AppData\\Local\\Temp\\ipykernel_5804\\1387603164.py:9: FutureWarning: The frame.append method is deprecated and will be removed from pandas in a future version. Use pandas.concat instead.\n",
            "  tags_df = tags_df.append(df1)\n",
            "C:\\Users\\vitek\\AppData\\Local\\Temp\\ipykernel_5804\\1387603164.py:9: FutureWarning: The frame.append method is deprecated and will be removed from pandas in a future version. Use pandas.concat instead.\n",
            "  tags_df = tags_df.append(df1)\n",
            "C:\\Users\\vitek\\AppData\\Local\\Temp\\ipykernel_5804\\1387603164.py:9: FutureWarning: The frame.append method is deprecated and will be removed from pandas in a future version. Use pandas.concat instead.\n",
            "  tags_df = tags_df.append(df1)\n",
            "C:\\Users\\vitek\\AppData\\Local\\Temp\\ipykernel_5804\\1387603164.py:9: FutureWarning: The frame.append method is deprecated and will be removed from pandas in a future version. Use pandas.concat instead.\n",
            "  tags_df = tags_df.append(df1)\n",
            "C:\\Users\\vitek\\AppData\\Local\\Temp\\ipykernel_5804\\1387603164.py:9: FutureWarning: The frame.append method is deprecated and will be removed from pandas in a future version. Use pandas.concat instead.\n",
            "  tags_df = tags_df.append(df1)\n",
            "C:\\Users\\vitek\\AppData\\Local\\Temp\\ipykernel_5804\\1387603164.py:9: FutureWarning: The frame.append method is deprecated and will be removed from pandas in a future version. Use pandas.concat instead.\n",
            "  tags_df = tags_df.append(df1)\n",
            "C:\\Users\\vitek\\AppData\\Local\\Temp\\ipykernel_5804\\1387603164.py:9: FutureWarning: The frame.append method is deprecated and will be removed from pandas in a future version. Use pandas.concat instead.\n",
            "  tags_df = tags_df.append(df1)\n",
            "C:\\Users\\vitek\\AppData\\Local\\Temp\\ipykernel_5804\\1387603164.py:9: FutureWarning: The frame.append method is deprecated and will be removed from pandas in a future version. Use pandas.concat instead.\n",
            "  tags_df = tags_df.append(df1)\n",
            "C:\\Users\\vitek\\AppData\\Local\\Temp\\ipykernel_5804\\1387603164.py:9: FutureWarning: The frame.append method is deprecated and will be removed from pandas in a future version. Use pandas.concat instead.\n",
            "  tags_df = tags_df.append(df1)\n",
            "C:\\Users\\vitek\\AppData\\Local\\Temp\\ipykernel_5804\\1387603164.py:9: FutureWarning: The frame.append method is deprecated and will be removed from pandas in a future version. Use pandas.concat instead.\n",
            "  tags_df = tags_df.append(df1)\n",
            "C:\\Users\\vitek\\AppData\\Local\\Temp\\ipykernel_5804\\1387603164.py:9: FutureWarning: The frame.append method is deprecated and will be removed from pandas in a future version. Use pandas.concat instead.\n",
            "  tags_df = tags_df.append(df1)\n",
            "C:\\Users\\vitek\\AppData\\Local\\Temp\\ipykernel_5804\\1387603164.py:9: FutureWarning: The frame.append method is deprecated and will be removed from pandas in a future version. Use pandas.concat instead.\n",
            "  tags_df = tags_df.append(df1)\n"
          ]
        },
        {
          "name": "stderr",
          "output_type": "stream",
          "text": [
            "C:\\Users\\vitek\\AppData\\Local\\Temp\\ipykernel_5804\\1387603164.py:9: FutureWarning: The frame.append method is deprecated and will be removed from pandas in a future version. Use pandas.concat instead.\n",
            "  tags_df = tags_df.append(df1)\n",
            "C:\\Users\\vitek\\AppData\\Local\\Temp\\ipykernel_5804\\1387603164.py:9: FutureWarning: The frame.append method is deprecated and will be removed from pandas in a future version. Use pandas.concat instead.\n",
            "  tags_df = tags_df.append(df1)\n",
            "C:\\Users\\vitek\\AppData\\Local\\Temp\\ipykernel_5804\\1387603164.py:9: FutureWarning: The frame.append method is deprecated and will be removed from pandas in a future version. Use pandas.concat instead.\n",
            "  tags_df = tags_df.append(df1)\n",
            "C:\\Users\\vitek\\AppData\\Local\\Temp\\ipykernel_5804\\1387603164.py:9: FutureWarning: The frame.append method is deprecated and will be removed from pandas in a future version. Use pandas.concat instead.\n",
            "  tags_df = tags_df.append(df1)\n",
            "C:\\Users\\vitek\\AppData\\Local\\Temp\\ipykernel_5804\\1387603164.py:9: FutureWarning: The frame.append method is deprecated and will be removed from pandas in a future version. Use pandas.concat instead.\n",
            "  tags_df = tags_df.append(df1)\n",
            "C:\\Users\\vitek\\AppData\\Local\\Temp\\ipykernel_5804\\1387603164.py:9: FutureWarning: The frame.append method is deprecated and will be removed from pandas in a future version. Use pandas.concat instead.\n",
            "  tags_df = tags_df.append(df1)\n",
            "C:\\Users\\vitek\\AppData\\Local\\Temp\\ipykernel_5804\\1387603164.py:9: FutureWarning: The frame.append method is deprecated and will be removed from pandas in a future version. Use pandas.concat instead.\n",
            "  tags_df = tags_df.append(df1)\n",
            "C:\\Users\\vitek\\AppData\\Local\\Temp\\ipykernel_5804\\1387603164.py:9: FutureWarning: The frame.append method is deprecated and will be removed from pandas in a future version. Use pandas.concat instead.\n",
            "  tags_df = tags_df.append(df1)\n",
            "C:\\Users\\vitek\\AppData\\Local\\Temp\\ipykernel_5804\\1387603164.py:9: FutureWarning: The frame.append method is deprecated and will be removed from pandas in a future version. Use pandas.concat instead.\n",
            "  tags_df = tags_df.append(df1)\n",
            "C:\\Users\\vitek\\AppData\\Local\\Temp\\ipykernel_5804\\1387603164.py:9: FutureWarning: The frame.append method is deprecated and will be removed from pandas in a future version. Use pandas.concat instead.\n",
            "  tags_df = tags_df.append(df1)\n",
            "C:\\Users\\vitek\\AppData\\Local\\Temp\\ipykernel_5804\\1387603164.py:9: FutureWarning: The frame.append method is deprecated and will be removed from pandas in a future version. Use pandas.concat instead.\n",
            "  tags_df = tags_df.append(df1)\n",
            "C:\\Users\\vitek\\AppData\\Local\\Temp\\ipykernel_5804\\1387603164.py:9: FutureWarning: The frame.append method is deprecated and will be removed from pandas in a future version. Use pandas.concat instead.\n",
            "  tags_df = tags_df.append(df1)\n",
            "C:\\Users\\vitek\\AppData\\Local\\Temp\\ipykernel_5804\\1387603164.py:9: FutureWarning: The frame.append method is deprecated and will be removed from pandas in a future version. Use pandas.concat instead.\n",
            "  tags_df = tags_df.append(df1)\n",
            "C:\\Users\\vitek\\AppData\\Local\\Temp\\ipykernel_5804\\1387603164.py:9: FutureWarning: The frame.append method is deprecated and will be removed from pandas in a future version. Use pandas.concat instead.\n",
            "  tags_df = tags_df.append(df1)\n",
            "C:\\Users\\vitek\\AppData\\Local\\Temp\\ipykernel_5804\\1387603164.py:9: FutureWarning: The frame.append method is deprecated and will be removed from pandas in a future version. Use pandas.concat instead.\n",
            "  tags_df = tags_df.append(df1)\n",
            "C:\\Users\\vitek\\AppData\\Local\\Temp\\ipykernel_5804\\1387603164.py:9: FutureWarning: The frame.append method is deprecated and will be removed from pandas in a future version. Use pandas.concat instead.\n",
            "  tags_df = tags_df.append(df1)\n",
            "C:\\Users\\vitek\\AppData\\Local\\Temp\\ipykernel_5804\\1387603164.py:9: FutureWarning: The frame.append method is deprecated and will be removed from pandas in a future version. Use pandas.concat instead.\n",
            "  tags_df = tags_df.append(df1)\n",
            "C:\\Users\\vitek\\AppData\\Local\\Temp\\ipykernel_5804\\1387603164.py:9: FutureWarning: The frame.append method is deprecated and will be removed from pandas in a future version. Use pandas.concat instead.\n",
            "  tags_df = tags_df.append(df1)\n",
            "C:\\Users\\vitek\\AppData\\Local\\Temp\\ipykernel_5804\\1387603164.py:9: FutureWarning: The frame.append method is deprecated and will be removed from pandas in a future version. Use pandas.concat instead.\n",
            "  tags_df = tags_df.append(df1)\n",
            "C:\\Users\\vitek\\AppData\\Local\\Temp\\ipykernel_5804\\1387603164.py:9: FutureWarning: The frame.append method is deprecated and will be removed from pandas in a future version. Use pandas.concat instead.\n",
            "  tags_df = tags_df.append(df1)\n",
            "C:\\Users\\vitek\\AppData\\Local\\Temp\\ipykernel_5804\\1387603164.py:9: FutureWarning: The frame.append method is deprecated and will be removed from pandas in a future version. Use pandas.concat instead.\n",
            "  tags_df = tags_df.append(df1)\n",
            "C:\\Users\\vitek\\AppData\\Local\\Temp\\ipykernel_5804\\1387603164.py:9: FutureWarning: The frame.append method is deprecated and will be removed from pandas in a future version. Use pandas.concat instead.\n",
            "  tags_df = tags_df.append(df1)\n",
            "C:\\Users\\vitek\\AppData\\Local\\Temp\\ipykernel_5804\\1387603164.py:9: FutureWarning: The frame.append method is deprecated and will be removed from pandas in a future version. Use pandas.concat instead.\n",
            "  tags_df = tags_df.append(df1)\n",
            "C:\\Users\\vitek\\AppData\\Local\\Temp\\ipykernel_5804\\1387603164.py:9: FutureWarning: The frame.append method is deprecated and will be removed from pandas in a future version. Use pandas.concat instead.\n",
            "  tags_df = tags_df.append(df1)\n",
            "C:\\Users\\vitek\\AppData\\Local\\Temp\\ipykernel_5804\\1387603164.py:9: FutureWarning: The frame.append method is deprecated and will be removed from pandas in a future version. Use pandas.concat instead.\n",
            "  tags_df = tags_df.append(df1)\n",
            "C:\\Users\\vitek\\AppData\\Local\\Temp\\ipykernel_5804\\1387603164.py:9: FutureWarning: The frame.append method is deprecated and will be removed from pandas in a future version. Use pandas.concat instead.\n",
            "  tags_df = tags_df.append(df1)\n",
            "C:\\Users\\vitek\\AppData\\Local\\Temp\\ipykernel_5804\\1387603164.py:9: FutureWarning: The frame.append method is deprecated and will be removed from pandas in a future version. Use pandas.concat instead.\n",
            "  tags_df = tags_df.append(df1)\n",
            "C:\\Users\\vitek\\AppData\\Local\\Temp\\ipykernel_5804\\1387603164.py:9: FutureWarning: The frame.append method is deprecated and will be removed from pandas in a future version. Use pandas.concat instead.\n",
            "  tags_df = tags_df.append(df1)\n",
            "C:\\Users\\vitek\\AppData\\Local\\Temp\\ipykernel_5804\\1387603164.py:9: FutureWarning: The frame.append method is deprecated and will be removed from pandas in a future version. Use pandas.concat instead.\n",
            "  tags_df = tags_df.append(df1)\n",
            "C:\\Users\\vitek\\AppData\\Local\\Temp\\ipykernel_5804\\1387603164.py:9: FutureWarning: The frame.append method is deprecated and will be removed from pandas in a future version. Use pandas.concat instead.\n",
            "  tags_df = tags_df.append(df1)\n",
            "C:\\Users\\vitek\\AppData\\Local\\Temp\\ipykernel_5804\\1387603164.py:9: FutureWarning: The frame.append method is deprecated and will be removed from pandas in a future version. Use pandas.concat instead.\n",
            "  tags_df = tags_df.append(df1)\n",
            "C:\\Users\\vitek\\AppData\\Local\\Temp\\ipykernel_5804\\1387603164.py:9: FutureWarning: The frame.append method is deprecated and will be removed from pandas in a future version. Use pandas.concat instead.\n",
            "  tags_df = tags_df.append(df1)\n",
            "C:\\Users\\vitek\\AppData\\Local\\Temp\\ipykernel_5804\\1387603164.py:9: FutureWarning: The frame.append method is deprecated and will be removed from pandas in a future version. Use pandas.concat instead.\n",
            "  tags_df = tags_df.append(df1)\n",
            "C:\\Users\\vitek\\AppData\\Local\\Temp\\ipykernel_5804\\1387603164.py:9: FutureWarning: The frame.append method is deprecated and will be removed from pandas in a future version. Use pandas.concat instead.\n",
            "  tags_df = tags_df.append(df1)\n",
            "C:\\Users\\vitek\\AppData\\Local\\Temp\\ipykernel_5804\\1387603164.py:9: FutureWarning: The frame.append method is deprecated and will be removed from pandas in a future version. Use pandas.concat instead.\n",
            "  tags_df = tags_df.append(df1)\n",
            "C:\\Users\\vitek\\AppData\\Local\\Temp\\ipykernel_5804\\1387603164.py:9: FutureWarning: The frame.append method is deprecated and will be removed from pandas in a future version. Use pandas.concat instead.\n",
            "  tags_df = tags_df.append(df1)\n",
            "C:\\Users\\vitek\\AppData\\Local\\Temp\\ipykernel_5804\\1387603164.py:9: FutureWarning: The frame.append method is deprecated and will be removed from pandas in a future version. Use pandas.concat instead.\n",
            "  tags_df = tags_df.append(df1)\n",
            "C:\\Users\\vitek\\AppData\\Local\\Temp\\ipykernel_5804\\1387603164.py:9: FutureWarning: The frame.append method is deprecated and will be removed from pandas in a future version. Use pandas.concat instead.\n",
            "  tags_df = tags_df.append(df1)\n",
            "C:\\Users\\vitek\\AppData\\Local\\Temp\\ipykernel_5804\\1387603164.py:9: FutureWarning: The frame.append method is deprecated and will be removed from pandas in a future version. Use pandas.concat instead.\n",
            "  tags_df = tags_df.append(df1)\n"
          ]
        },
        {
          "name": "stderr",
          "output_type": "stream",
          "text": [
            "C:\\Users\\vitek\\AppData\\Local\\Temp\\ipykernel_5804\\1387603164.py:9: FutureWarning: The frame.append method is deprecated and will be removed from pandas in a future version. Use pandas.concat instead.\n",
            "  tags_df = tags_df.append(df1)\n",
            "C:\\Users\\vitek\\AppData\\Local\\Temp\\ipykernel_5804\\1387603164.py:9: FutureWarning: The frame.append method is deprecated and will be removed from pandas in a future version. Use pandas.concat instead.\n",
            "  tags_df = tags_df.append(df1)\n",
            "C:\\Users\\vitek\\AppData\\Local\\Temp\\ipykernel_5804\\1387603164.py:9: FutureWarning: The frame.append method is deprecated and will be removed from pandas in a future version. Use pandas.concat instead.\n",
            "  tags_df = tags_df.append(df1)\n",
            "C:\\Users\\vitek\\AppData\\Local\\Temp\\ipykernel_5804\\1387603164.py:9: FutureWarning: The frame.append method is deprecated and will be removed from pandas in a future version. Use pandas.concat instead.\n",
            "  tags_df = tags_df.append(df1)\n",
            "C:\\Users\\vitek\\AppData\\Local\\Temp\\ipykernel_5804\\1387603164.py:9: FutureWarning: The frame.append method is deprecated and will be removed from pandas in a future version. Use pandas.concat instead.\n",
            "  tags_df = tags_df.append(df1)\n",
            "C:\\Users\\vitek\\AppData\\Local\\Temp\\ipykernel_5804\\1387603164.py:9: FutureWarning: The frame.append method is deprecated and will be removed from pandas in a future version. Use pandas.concat instead.\n",
            "  tags_df = tags_df.append(df1)\n",
            "C:\\Users\\vitek\\AppData\\Local\\Temp\\ipykernel_5804\\1387603164.py:9: FutureWarning: The frame.append method is deprecated and will be removed from pandas in a future version. Use pandas.concat instead.\n",
            "  tags_df = tags_df.append(df1)\n",
            "C:\\Users\\vitek\\AppData\\Local\\Temp\\ipykernel_5804\\1387603164.py:9: FutureWarning: The frame.append method is deprecated and will be removed from pandas in a future version. Use pandas.concat instead.\n",
            "  tags_df = tags_df.append(df1)\n",
            "C:\\Users\\vitek\\AppData\\Local\\Temp\\ipykernel_5804\\1387603164.py:9: FutureWarning: The frame.append method is deprecated and will be removed from pandas in a future version. Use pandas.concat instead.\n",
            "  tags_df = tags_df.append(df1)\n",
            "C:\\Users\\vitek\\AppData\\Local\\Temp\\ipykernel_5804\\1387603164.py:9: FutureWarning: The frame.append method is deprecated and will be removed from pandas in a future version. Use pandas.concat instead.\n",
            "  tags_df = tags_df.append(df1)\n",
            "C:\\Users\\vitek\\AppData\\Local\\Temp\\ipykernel_5804\\1387603164.py:9: FutureWarning: The frame.append method is deprecated and will be removed from pandas in a future version. Use pandas.concat instead.\n",
            "  tags_df = tags_df.append(df1)\n",
            "C:\\Users\\vitek\\AppData\\Local\\Temp\\ipykernel_5804\\1387603164.py:9: FutureWarning: The frame.append method is deprecated and will be removed from pandas in a future version. Use pandas.concat instead.\n",
            "  tags_df = tags_df.append(df1)\n",
            "C:\\Users\\vitek\\AppData\\Local\\Temp\\ipykernel_5804\\1387603164.py:9: FutureWarning: The frame.append method is deprecated and will be removed from pandas in a future version. Use pandas.concat instead.\n",
            "  tags_df = tags_df.append(df1)\n",
            "C:\\Users\\vitek\\AppData\\Local\\Temp\\ipykernel_5804\\1387603164.py:9: FutureWarning: The frame.append method is deprecated and will be removed from pandas in a future version. Use pandas.concat instead.\n",
            "  tags_df = tags_df.append(df1)\n",
            "C:\\Users\\vitek\\AppData\\Local\\Temp\\ipykernel_5804\\1387603164.py:9: FutureWarning: The frame.append method is deprecated and will be removed from pandas in a future version. Use pandas.concat instead.\n",
            "  tags_df = tags_df.append(df1)\n",
            "C:\\Users\\vitek\\AppData\\Local\\Temp\\ipykernel_5804\\1387603164.py:9: FutureWarning: The frame.append method is deprecated and will be removed from pandas in a future version. Use pandas.concat instead.\n",
            "  tags_df = tags_df.append(df1)\n",
            "C:\\Users\\vitek\\AppData\\Local\\Temp\\ipykernel_5804\\1387603164.py:9: FutureWarning: The frame.append method is deprecated and will be removed from pandas in a future version. Use pandas.concat instead.\n",
            "  tags_df = tags_df.append(df1)\n",
            "C:\\Users\\vitek\\AppData\\Local\\Temp\\ipykernel_5804\\1387603164.py:9: FutureWarning: The frame.append method is deprecated and will be removed from pandas in a future version. Use pandas.concat instead.\n",
            "  tags_df = tags_df.append(df1)\n",
            "C:\\Users\\vitek\\AppData\\Local\\Temp\\ipykernel_5804\\1387603164.py:9: FutureWarning: The frame.append method is deprecated and will be removed from pandas in a future version. Use pandas.concat instead.\n",
            "  tags_df = tags_df.append(df1)\n",
            "C:\\Users\\vitek\\AppData\\Local\\Temp\\ipykernel_5804\\1387603164.py:9: FutureWarning: The frame.append method is deprecated and will be removed from pandas in a future version. Use pandas.concat instead.\n",
            "  tags_df = tags_df.append(df1)\n",
            "C:\\Users\\vitek\\AppData\\Local\\Temp\\ipykernel_5804\\1387603164.py:9: FutureWarning: The frame.append method is deprecated and will be removed from pandas in a future version. Use pandas.concat instead.\n",
            "  tags_df = tags_df.append(df1)\n",
            "C:\\Users\\vitek\\AppData\\Local\\Temp\\ipykernel_5804\\1387603164.py:9: FutureWarning: The frame.append method is deprecated and will be removed from pandas in a future version. Use pandas.concat instead.\n",
            "  tags_df = tags_df.append(df1)\n",
            "C:\\Users\\vitek\\AppData\\Local\\Temp\\ipykernel_5804\\1387603164.py:9: FutureWarning: The frame.append method is deprecated and will be removed from pandas in a future version. Use pandas.concat instead.\n",
            "  tags_df = tags_df.append(df1)\n",
            "C:\\Users\\vitek\\AppData\\Local\\Temp\\ipykernel_5804\\1387603164.py:9: FutureWarning: The frame.append method is deprecated and will be removed from pandas in a future version. Use pandas.concat instead.\n",
            "  tags_df = tags_df.append(df1)\n",
            "C:\\Users\\vitek\\AppData\\Local\\Temp\\ipykernel_5804\\1387603164.py:9: FutureWarning: The frame.append method is deprecated and will be removed from pandas in a future version. Use pandas.concat instead.\n",
            "  tags_df = tags_df.append(df1)\n",
            "C:\\Users\\vitek\\AppData\\Local\\Temp\\ipykernel_5804\\1387603164.py:9: FutureWarning: The frame.append method is deprecated and will be removed from pandas in a future version. Use pandas.concat instead.\n",
            "  tags_df = tags_df.append(df1)\n",
            "C:\\Users\\vitek\\AppData\\Local\\Temp\\ipykernel_5804\\1387603164.py:9: FutureWarning: The frame.append method is deprecated and will be removed from pandas in a future version. Use pandas.concat instead.\n",
            "  tags_df = tags_df.append(df1)\n",
            "C:\\Users\\vitek\\AppData\\Local\\Temp\\ipykernel_5804\\1387603164.py:9: FutureWarning: The frame.append method is deprecated and will be removed from pandas in a future version. Use pandas.concat instead.\n",
            "  tags_df = tags_df.append(df1)\n",
            "C:\\Users\\vitek\\AppData\\Local\\Temp\\ipykernel_5804\\1387603164.py:9: FutureWarning: The frame.append method is deprecated and will be removed from pandas in a future version. Use pandas.concat instead.\n",
            "  tags_df = tags_df.append(df1)\n",
            "C:\\Users\\vitek\\AppData\\Local\\Temp\\ipykernel_5804\\1387603164.py:9: FutureWarning: The frame.append method is deprecated and will be removed from pandas in a future version. Use pandas.concat instead.\n",
            "  tags_df = tags_df.append(df1)\n",
            "C:\\Users\\vitek\\AppData\\Local\\Temp\\ipykernel_5804\\1387603164.py:9: FutureWarning: The frame.append method is deprecated and will be removed from pandas in a future version. Use pandas.concat instead.\n",
            "  tags_df = tags_df.append(df1)\n"
          ]
        },
        {
          "data": {
            "text/html": [
              "<div>\n",
              "<style scoped>\n",
              "    .dataframe tbody tr th:only-of-type {\n",
              "        vertical-align: middle;\n",
              "    }\n",
              "\n",
              "    .dataframe tbody tr th {\n",
              "        vertical-align: top;\n",
              "    }\n",
              "\n",
              "    .dataframe thead th {\n",
              "        text-align: right;\n",
              "    }\n",
              "</style>\n",
              "<table border=\"1\" class=\"dataframe\">\n",
              "  <thead>\n",
              "    <tr style=\"text-align: right;\">\n",
              "      <th></th>\n",
              "      <th>Wrong</th>\n",
              "      <th>Right</th>\n",
              "      <th>Total_questions</th>\n",
              "      <th>Question_ids_with_tag</th>\n",
              "      <th>Percent_correct</th>\n",
              "    </tr>\n",
              "    <tr>\n",
              "      <th>tag</th>\n",
              "      <th></th>\n",
              "      <th></th>\n",
              "      <th></th>\n",
              "      <th></th>\n",
              "      <th></th>\n",
              "    </tr>\n",
              "  </thead>\n",
              "  <tbody>\n",
              "    <tr>\n",
              "      <th>24</th>\n",
              "      <td>15523</td>\n",
              "      <td>9653</td>\n",
              "      <td>25176</td>\n",
              "      <td>17</td>\n",
              "      <td>0.383421</td>\n",
              "    </tr>\n",
              "    <tr>\n",
              "      <th>23</th>\n",
              "      <td>25673</td>\n",
              "      <td>20228</td>\n",
              "      <td>45901</td>\n",
              "      <td>11</td>\n",
              "      <td>0.440688</td>\n",
              "    </tr>\n",
              "    <tr>\n",
              "      <th>19</th>\n",
              "      <td>17267</td>\n",
              "      <td>13833</td>\n",
              "      <td>31100</td>\n",
              "      <td>57</td>\n",
              "      <td>0.444791</td>\n",
              "    </tr>\n",
              "    <tr>\n",
              "      <th>151</th>\n",
              "      <td>26954</td>\n",
              "      <td>25882</td>\n",
              "      <td>52836</td>\n",
              "      <td>16</td>\n",
              "      <td>0.489855</td>\n",
              "    </tr>\n",
              "    <tr>\n",
              "      <th>108</th>\n",
              "      <td>23213</td>\n",
              "      <td>23511</td>\n",
              "      <td>46724</td>\n",
              "      <td>20</td>\n",
              "      <td>0.503189</td>\n",
              "    </tr>\n",
              "  </tbody>\n",
              "</table>\n",
              "</div>"
            ],
            "text/plain": [
              "     Wrong  Right  Total_questions  Question_ids_with_tag  Percent_correct\n",
              "tag                                                                       \n",
              "24   15523   9653            25176                     17         0.383421\n",
              "23   25673  20228            45901                     11         0.440688\n",
              "19   17267  13833            31100                     57         0.444791\n",
              "151  26954  25882            52836                     16         0.489855\n",
              "108  23213  23511            46724                     20         0.503189"
            ]
          },
          "execution_count": 94,
          "metadata": {},
          "output_type": "execute_result"
        }
      ],
      "source": [
        "tags_df = pd.DataFrame()\n",
        "for x in range(len(tags)):\n",
        "    df = quest_df[quest_df['tags'].apply(lambda l: tags[x] in l)]\n",
        "    df1 = df.agg({'Wrong': ['sum'], 'Right': ['sum']})\n",
        "    df1['Total_questions'] = df1.Wrong + df1.Right\n",
        "    df1['Question_ids_with_tag'] = len(df)\n",
        "    df1['tag'] = tags[x]\n",
        "    df1 = df1.set_index('tag')\n",
        "    tags_df = tags_df.append(df1)\n",
        "\n",
        "tags_df[['Wrong', 'Right', 'Total_questions']] = tags_df[['Wrong', 'Right', 'Total_questions']].astype(int)\n",
        "tags_df['Percent_correct'] = tags_df.Right/tags_df.Total_questions\n",
        "tags_df = tags_df.sort_values(by = \"Percent_correct\")\n",
        "\n",
        "tags_df.head()"
      ]
    },
    {
      "cell_type": "code",
      "execution_count": null,
      "id": "01886782",
      "metadata": {
        "id": "01886782",
        "outputId": "b6a8fca7-66be-40d8-83e4-0994581788c0"
      },
      "outputs": [
        {
          "data": {
            "image/png": "[encoded data removed]",
            "text/plain": [
              "<Figure size 1080x432 with 1 Axes>"
            ]
          },
          "metadata": {
            "needs_background": "light"
          },
          "output_type": "display_data"
        }
      ],
      "source": [
        "select_rows = list(range(0,10)) + list(range(178, len(tags_df)))\n",
        "tags_select = tags_df.iloc[select_rows,4]\n",
        "\n",
        "fig = plt.figure(figsize=(15,6))\n",
        "x = tags_select.index\n",
        "y = tags_select.values\n",
        "clrs = ['red' if y < 0.6 else 'green' for y in tags_select.values]\n",
        "tags_select.plot.bar(x, y, color=clrs)\n",
        "plt.title('10 сложнейших и 10 простейших тегов')\n",
        "plt.xlabel('Tag')\n",
        "plt.ylabel('Процент правльных ответов с тегом')\n",
        "plt.xticks(rotation=90)\n",
        "plt.show()"
      ]
    },
    {
      "cell_type": "code",
      "execution_count": null,
      "id": "30bf2b54",
      "metadata": {
        "id": "30bf2b54",
        "outputId": "87b0924a-9e54-4b27-e908-1422e845d81f"
      },
      "outputs": [
        {
          "data": {
            "image/png": "[encoded data removed]",
            "text/plain": [
              "<Figure size 1080x432 with 1 Axes>"
            ]
          },
          "metadata": {
            "needs_background": "light"
          },
          "output_type": "display_data"
        }
      ],
      "source": [
        "tags_select = tags_df.sort_values(by = \"Total_questions\", ascending = False).iloc[:30,:]\n",
        "tags_select = tags_select[\"Total_questions\"]\n",
        "\n",
        "fig = plt.figure(figsize=(15,6))\n",
        "ax = tags_select.plot.bar()\n",
        "plt.title(\"Тридцать тегов с большим количеством ответов\")\n",
        "plt.xticks(rotation=90)\n",
        "plt.ticklabel_format(style='plain', axis='y')\n",
        "ax.get_yaxis().set_major_formatter(lambda x, p: format(int(x), ','))\n",
        "plt.show()"
      ]
    },
    {
      "cell_type": "code",
      "execution_count": null,
      "id": "56a47654",
      "metadata": {
        "id": "56a47654",
        "outputId": "4a3c193f-6fec-4519-93a9-07cb16c95a7a"
      },
      "outputs": [
        {
          "data": {
            "image/png": "[encoded data removed]",
            "text/plain": [
              "<Figure size 1080x576 with 2 Axes>"
            ]
          },
          "metadata": {
            "needs_background": "light"
          },
          "output_type": "display_data"
        }
      ],
      "source": [
        "fig = plt.figure(figsize=(15,8))\n",
        "ax1 = fig.add_subplot(211)\n",
        "ax1 = quest_df.groupby(\"part\").count()['question_id'].plot.bar()\n",
        "plt.title(\"Количество частей\")\n",
        "plt.xlabel(\"Part\")\n",
        "plt.xticks(rotation=0)\n",
        "\n",
        "part = quest_df.groupby('part').agg({'Wrong': ['sum'], 'Right': ['sum']})\n",
        "part['Percent_correct'] = part.Right/(part.Right + part.Wrong)\n",
        "part = part.iloc[:,2]\n",
        "\n",
        "ax2 = fig.add_subplot(212)\n",
        "plt.bar(part.index, part.values)\n",
        "for i, v in zip(part.index, part.values):\n",
        "    plt.text(i, v, round(v,2), color='white', fontweight='bold', fontsize=14, va='top', ha='center')\n",
        "\n",
        "plt.title(\"Процент правильных ответов на часть\")\n",
        "plt.xlabel(\"Part\")\n",
        "plt.xticks(rotation=0)\n",
        "plt.tight_layout(pad=2)\n",
        "plt.show()"
      ]
    },
    {
      "cell_type": "code",
      "execution_count": null,
      "id": "aada2448",
      "metadata": {
        "id": "aada2448",
        "outputId": "756c3d7c-840f-4d23-9bac-89a83466169f"
      },
      "outputs": [
        {
          "data": {
            "text/html": [
              "<div>\n",
              "<style scoped>\n",
              "    .dataframe tbody tr th:only-of-type {\n",
              "        vertical-align: middle;\n",
              "    }\n",
              "\n",
              "    .dataframe tbody tr th {\n",
              "        vertical-align: top;\n",
              "    }\n",
              "\n",
              "    .dataframe thead th {\n",
              "        text-align: right;\n",
              "    }\n",
              "</style>\n",
              "<table border=\"1\" class=\"dataframe\">\n",
              "  <thead>\n",
              "    <tr style=\"text-align: right;\">\n",
              "      <th></th>\n",
              "      <th>lecture_id</th>\n",
              "      <th>tag</th>\n",
              "      <th>part</th>\n",
              "      <th>type_of</th>\n",
              "    </tr>\n",
              "  </thead>\n",
              "  <tbody>\n",
              "    <tr>\n",
              "      <th>0</th>\n",
              "      <td>89</td>\n",
              "      <td>159</td>\n",
              "      <td>5</td>\n",
              "      <td>concept</td>\n",
              "    </tr>\n",
              "    <tr>\n",
              "      <th>1</th>\n",
              "      <td>100</td>\n",
              "      <td>70</td>\n",
              "      <td>1</td>\n",
              "      <td>concept</td>\n",
              "    </tr>\n",
              "    <tr>\n",
              "      <th>2</th>\n",
              "      <td>185</td>\n",
              "      <td>45</td>\n",
              "      <td>6</td>\n",
              "      <td>concept</td>\n",
              "    </tr>\n",
              "    <tr>\n",
              "      <th>3</th>\n",
              "      <td>192</td>\n",
              "      <td>79</td>\n",
              "      <td>5</td>\n",
              "      <td>solving question</td>\n",
              "    </tr>\n",
              "    <tr>\n",
              "      <th>4</th>\n",
              "      <td>317</td>\n",
              "      <td>156</td>\n",
              "      <td>5</td>\n",
              "      <td>solving question</td>\n",
              "    </tr>\n",
              "  </tbody>\n",
              "</table>\n",
              "</div>"
            ],
            "text/plain": [
              "   lecture_id  tag  part           type_of\n",
              "0          89  159     5           concept\n",
              "1         100   70     1           concept\n",
              "2         185   45     6           concept\n",
              "3         192   79     5  solving question\n",
              "4         317  156     5  solving question"
            ]
          },
          "execution_count": 99,
          "metadata": {},
          "output_type": "execute_result"
        }
      ],
      "source": [
        "lect_df.head()"
      ]
    },
    {
      "cell_type": "code",
      "execution_count": null,
      "id": "a6029ac4",
      "metadata": {
        "id": "a6029ac4",
        "outputId": "3b532454-507c-4a80-d5f2-34e347387772"
      },
      "outputs": [
        {
          "data": {
            "text/plain": [
              "418"
            ]
          },
          "execution_count": 100,
          "metadata": {},
          "output_type": "execute_result"
        }
      ],
      "source": [
        "lect_df.shape[0]\n",
        "#418 lecture_id"
      ]
    },
    {
      "cell_type": "code",
      "execution_count": null,
      "id": "ced0c1f3",
      "metadata": {
        "id": "ced0c1f3",
        "outputId": "0c783532-4118-45c2-8bdd-19933be0d800"
      },
      "outputs": [
        {
          "data": {
            "image/png": "[encoded data removed]",
            "text/plain": [
              "<Figure size 1080x432 with 1 Axes>"
            ]
          },
          "metadata": {
            "needs_background": "light"
          },
          "output_type": "display_data"
        }
      ],
      "source": [
        "lect_type_of = lect_df['type_of'].value_counts()\n",
        "\n",
        "fig = plt.figure(figsize=(15,6))\n",
        "plt.bar(lect_type_of.index, lect_type_of.values)\n",
        "for i, v in zip(lect_type_of.index, lect_type_of.values):\n",
        "    plt.text(i, v, v, color='black', fontweight='bold', fontsize=14, va='bottom', ha='center')\n",
        "plt.title(\"Типы лекций\")\n",
        "plt.xlabel(\"type_of\")\n",
        "plt.ylabel(\"Count lecture_id\")\n",
        "plt.xticks(rotation=0)\n",
        "plt.show()"
      ]
    },
    {
      "cell_type": "code",
      "execution_count": null,
      "id": "a285cde7",
      "metadata": {
        "id": "a285cde7",
        "outputId": "659cbbff-d855-43a6-bf6b-c16aabcb84d6"
      },
      "outputs": [
        {
          "name": "stdout",
          "output_type": "stream",
          "text": [
            "False    24467\n",
            "True     15024\n",
            "Name: Watches_lecture, dtype: int64\n"
          ]
        },
        {
          "data": {
            "image/png": "[encoded data removed]",
            "text/plain": [
              "<Figure size 864x288 with 1 Axes>"
            ]
          },
          "metadata": {
            "needs_background": "light"
          },
          "output_type": "display_data"
        }
      ],
      "source": [
        "user_lect = train_df.groupby([\"user_id\", \"answered_correctly\"]).size().unstack()\n",
        "user_lect.columns = ['Lecture', 'Wrong', 'Right']\n",
        "user_lect['Lecture'] = user_lect['Lecture'].fillna(0)\n",
        "user_lect = user_lect.astype('Int64')\n",
        "user_lect['Watches_lecture'] = np.where(user_lect.Lecture > 0, True, False)\n",
        "\n",
        "watches_l = user_lect.groupby(\"Watches_lecture\").agg({'Wrong': ['sum'], 'Right': ['sum']})\n",
        "print(user_lect.Watches_lecture.value_counts())\n",
        "\n",
        "watches_l['Percent_correct'] = watches_l.Right/(watches_l.Right + watches_l.Wrong)\n",
        "\n",
        "watches_l = watches_l.iloc[:,2]\n",
        "\n",
        "fig = plt.figure(figsize=(12,4))\n",
        "watches_l.plot.barh()\n",
        "for i, v in zip(watches_l.index, watches_l.values):\n",
        "    plt.text(v, i, round(v,2), color='white', fontweight='bold', fontsize=14, ha='right', va='center')\n",
        "\n",
        "plt.title(\"User смотрел лекции (процент правильных ответов)\")\n",
        "plt.xlabel(\"Процент правильных ответов\")\n",
        "plt.ylabel(\"User смотрел хотя бы одну лекцию\")\n",
        "plt.xticks(rotation=0)\n",
        "plt.show()"
      ]
    },
    {
      "cell_type": "code",
      "execution_count": null,
      "id": "1a256671",
      "metadata": {
        "id": "1a256671",
        "outputId": "12d4bce0-7394-43e9-fd6c-925590b801cf"
      },
      "outputs": [
        {
          "data": {
            "text/plain": [
              "523"
            ]
          },
          "execution_count": 103,
          "metadata": {},
          "output_type": "execute_result"
        }
      ],
      "source": [
        "batch_lect = train_df.groupby([\"task_container_id\", \"answered_correctly\"]).size().unstack()\n",
        "batch_lect.columns = ['Lecture', 'Wrong', 'Right']\n",
        "batch_lect['Lecture'] = batch_lect['Lecture'].fillna(0)\n",
        "batch_lect = batch_lect.astype('Int64')\n",
        "batch_lect['Percent_correct'] = batch_lect.Right/(batch_lect.Wrong + batch_lect.Right)\n",
        "batch_lect['Percent_lecture'] = batch_lect.Lecture/(batch_lect.Lecture + batch_lect.Wrong + batch_lect.Right)\n",
        "batch_lect = batch_lect.sort_values(by = \"Percent_lecture\", ascending = False)\n",
        "\n",
        "batch_lect.Lecture.max()\n",
        "#Максимальное количество лекций, просморенных с одним task_container_id 523"
      ]
    },
    {
      "cell_type": "code",
      "execution_count": null,
      "id": "2cb0e1e3",
      "metadata": {
        "id": "2cb0e1e3",
        "outputId": "7f51f881-b95d-489a-d7c4-e067cca6dea5"
      },
      "outputs": [
        {
          "data": {
            "text/html": [
              "<div>\n",
              "<style scoped>\n",
              "    .dataframe tbody tr th:only-of-type {\n",
              "        vertical-align: middle;\n",
              "    }\n",
              "\n",
              "    .dataframe tbody tr th {\n",
              "        vertical-align: top;\n",
              "    }\n",
              "\n",
              "    .dataframe thead th {\n",
              "        text-align: right;\n",
              "    }\n",
              "</style>\n",
              "<table border=\"1\" class=\"dataframe\">\n",
              "  <thead>\n",
              "    <tr style=\"text-align: right;\">\n",
              "      <th></th>\n",
              "      <th>Lecture</th>\n",
              "      <th>Wrong</th>\n",
              "      <th>Right</th>\n",
              "      <th>Percent_correct</th>\n",
              "      <th>Percent_lecture</th>\n",
              "    </tr>\n",
              "    <tr>\n",
              "      <th>task_container_id</th>\n",
              "      <th></th>\n",
              "      <th></th>\n",
              "      <th></th>\n",
              "      <th></th>\n",
              "      <th></th>\n",
              "    </tr>\n",
              "  </thead>\n",
              "  <tbody>\n",
              "    <tr>\n",
              "      <th>9651</th>\n",
              "      <td>2</td>\n",
              "      <td>4</td>\n",
              "      <td>10</td>\n",
              "      <td>0.714286</td>\n",
              "      <td>0.125</td>\n",
              "    </tr>\n",
              "    <tr>\n",
              "      <th>9034</th>\n",
              "      <td>2</td>\n",
              "      <td>5</td>\n",
              "      <td>12</td>\n",
              "      <td>0.705882</td>\n",
              "      <td>0.105263</td>\n",
              "    </tr>\n",
              "    <tr>\n",
              "      <th>9785</th>\n",
              "      <td>2</td>\n",
              "      <td>3</td>\n",
              "      <td>15</td>\n",
              "      <td>0.833333</td>\n",
              "      <td>0.1</td>\n",
              "    </tr>\n",
              "    <tr>\n",
              "      <th>8409</th>\n",
              "      <td>2</td>\n",
              "      <td>6</td>\n",
              "      <td>13</td>\n",
              "      <td>0.684211</td>\n",
              "      <td>0.095238</td>\n",
              "    </tr>\n",
              "    <tr>\n",
              "      <th>9596</th>\n",
              "      <td>2</td>\n",
              "      <td>10</td>\n",
              "      <td>9</td>\n",
              "      <td>0.473684</td>\n",
              "      <td>0.095238</td>\n",
              "    </tr>\n",
              "  </tbody>\n",
              "</table>\n",
              "</div>"
            ],
            "text/plain": [
              "                   Lecture  Wrong  Right  Percent_correct  Percent_lecture\n",
              "task_container_id                                                         \n",
              "9651                     2      4     10         0.714286            0.125\n",
              "9034                     2      5     12         0.705882         0.105263\n",
              "9785                     2      3     15         0.833333              0.1\n",
              "8409                     2      6     13         0.684211         0.095238\n",
              "9596                     2     10      9         0.473684         0.095238"
            ]
          },
          "execution_count": 104,
          "metadata": {},
          "output_type": "execute_result"
        }
      ],
      "source": [
        "batch_lect.head()"
      ]
    },
    {
      "cell_type": "code",
      "execution_count": null,
      "id": "b26702f9",
      "metadata": {
        "id": "b26702f9",
        "outputId": "3faa4fa5-4618-4bff-8be3-e9f3021b211c"
      },
      "outputs": [
        {
          "data": {
            "text/plain": [
              "5979"
            ]
          },
          "metadata": {},
          "output_type": "display_data"
        },
        {
          "data": {
            "text/plain": [
              "4021"
            ]
          },
          "metadata": {},
          "output_type": "display_data"
        }
      ],
      "source": [
        "batch_lect['Has_lecture'] = np.where(batch_lect.Lecture == 0, False, True)\n",
        "#Есть 5979 task_container_id с лекциями и 4021 без лекций\n",
        "display(batch_lect[batch_lect.Has_lecture == True].shape[0])\n",
        "display(batch_lect[batch_lect.Has_lecture == False].shape[0])"
      ]
    },
    {
      "cell_type": "code",
      "execution_count": null,
      "id": "426cc8b7",
      "metadata": {
        "id": "426cc8b7",
        "outputId": "9281f2d8-7615-4121-d265-e940e6019b72"
      },
      "outputs": [
        {
          "data": {
            "text/html": [
              "<div>\n",
              "<style scoped>\n",
              "    .dataframe tbody tr th:only-of-type {\n",
              "        vertical-align: middle;\n",
              "    }\n",
              "\n",
              "    .dataframe tbody tr th {\n",
              "        vertical-align: top;\n",
              "    }\n",
              "\n",
              "    .dataframe thead th {\n",
              "        text-align: right;\n",
              "    }\n",
              "</style>\n",
              "<table border=\"1\" class=\"dataframe\">\n",
              "  <thead>\n",
              "    <tr style=\"text-align: right;\">\n",
              "      <th></th>\n",
              "      <th>Percent_correct</th>\n",
              "    </tr>\n",
              "    <tr>\n",
              "      <th>Has_lecture</th>\n",
              "      <th></th>\n",
              "    </tr>\n",
              "  </thead>\n",
              "  <tbody>\n",
              "    <tr>\n",
              "      <th>False</th>\n",
              "      <td>0.735944</td>\n",
              "    </tr>\n",
              "    <tr>\n",
              "      <th>True</th>\n",
              "      <td>0.656856</td>\n",
              "    </tr>\n",
              "  </tbody>\n",
              "</table>\n",
              "</div>"
            ],
            "text/plain": [
              "             Percent_correct\n",
              "Has_lecture                 \n",
              "False               0.735944\n",
              "True                0.656856"
            ]
          },
          "execution_count": 112,
          "metadata": {},
          "output_type": "execute_result"
        }
      ],
      "source": [
        "batch_lect = batch_lect[['Wrong', 'Right', 'Has_lecture']]\n",
        "batch_lect = batch_lect.groupby(\"Has_lecture\").sum()\n",
        "batch_lect['Percent_correct'] = batch_lect.Right/(batch_lect.Wrong + batch_lect.Right)\n",
        "batch_lect = batch_lect[['Percent_correct']]\n",
        "batch_lect"
      ]
    },
    {
      "cell_type": "code",
      "execution_count": null,
      "id": "13350ab7",
      "metadata": {
        "id": "13350ab7"
      },
      "outputs": [],
      "source": []
    }
  ],
  "metadata": {
    "kernelspec": {
      "display_name": "Python 3 (ipykernel)",
      "language": "python",
      "name": "python3"
    },
    "language_info": {
      "codemirror_mode": {
        "name": "ipython",
        "version": 3
      },
      "file_extension": ".py",
      "mimetype": "text/x-python",
      "name": "python",
      "nbconvert_exporter": "python",
      "pygments_lexer": "ipython3",
      "version": "3.9.12"
    },
    "colab": {
      "provenance": [],
      "include_colab_link": true
    }
  },
  "nbformat": 4,
  "nbformat_minor": 5
}